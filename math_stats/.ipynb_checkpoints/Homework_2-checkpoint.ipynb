{
 "cells": [
  {
   "cell_type": "markdown",
   "metadata": {},
   "source": [
    "### Opening file"
   ]
  },
  {
   "cell_type": "code",
   "execution_count": 1,
   "metadata": {},
   "outputs": [],
   "source": [
    "import numpy as np\n",
    "import scipy.stats as sts\n",
    "import matplotlib.pyplot as plt"
   ]
  },
  {
   "cell_type": "code",
   "execution_count": 2,
   "metadata": {},
   "outputs": [],
   "source": [
    "f = open('IB_statistics_data_hw2.txt', 'r')"
   ]
  },
  {
   "cell_type": "code",
   "execution_count": 3,
   "metadata": {},
   "outputs": [
    {
     "data": {
      "text/plain": [
       "'v3'"
      ]
     },
     "execution_count": 3,
     "metadata": {},
     "output_type": "execute_result"
    }
   ],
   "source": [
    "data_1 = []\n",
    "data_2 = []\n",
    "data_3 = []\n",
    "\n",
    "for line in f:\n",
    "    s_list = line.split(' ')\n",
    "    data_1.append(s_list[0])\n",
    "    data_2.append(s_list[1])\n",
    "    data_3.append(s_list[2].replace('\\n',''))\n",
    "    \n",
    "data_1.pop(0)\n",
    "data_2.pop(0)\n",
    "data_3.pop(0)"
   ]
  },
  {
   "cell_type": "markdown",
   "metadata": {},
   "source": [
    "### Analyzing data "
   ]
  },
  {
   "cell_type": "markdown",
   "metadata": {},
   "source": [
    "##### data_1"
   ]
  },
  {
   "cell_type": "code",
   "execution_count": 4,
   "metadata": {},
   "outputs": [],
   "source": [
    "arr = []\n",
    "\n",
    "for i in range(len(data_1)):\n",
    "    arr.append(float(data_1[i]))\n",
    "\n",
    "arr.sort()\n",
    "#print(arr)"
   ]
  },
  {
   "cell_type": "code",
   "execution_count": 5,
   "metadata": {},
   "outputs": [
    {
     "data": {
      "image/png": "[encoded data removed]",
      "text/plain": [
       "<Figure size 432x288 with 1 Axes>"
      ]
     },
     "metadata": {
      "needs_background": "light"
     },
     "output_type": "display_data"
    }
   ],
   "source": [
    "# data_1\n",
    "\n",
    "num_bins = 20-1\n",
    "n, bins, patches = plt.hist(arr, num_bins, density = False, facecolor='blue', alpha=0.5)\n",
    "\n",
    "#plt.plot(bins, y, 'r--')\n",
    "plt.xlabel('x')\n",
    "plt.ylabel('Quantity')\n",
    "plt.title(r'Histogram')\n",
    "\n",
    "#plt.subplots_adjust(left=0.15)\n",
    "plt.show()"
   ]
  },
  {
   "cell_type": "code",
   "execution_count": 6,
   "metadata": {},
   "outputs": [
    {
     "name": "stdout",
     "output_type": "stream",
     "text": [
      "Median of data_1 = 2.0533324302762\n"
     ]
    }
   ],
   "source": [
    "arr = np.array(arr)\n",
    "\n",
    "shape = arr.shape[0]\n",
    "index = shape//2\n",
    "print('Median of data_1 = ' + str(arr[index]))"
   ]
  },
  {
   "cell_type": "code",
   "execution_count": 7,
   "metadata": {},
   "outputs": [
    {
     "name": "stdout",
     "output_type": "stream",
     "text": [
      "Mean of data_1 = 2.0585485590386146\n"
     ]
    }
   ],
   "source": [
    "print('Mean of data_1 = ' +str(arr.mean()))\n",
    "mean = arr.mean()"
   ]
  },
  {
   "cell_type": "code",
   "execution_count": 8,
   "metadata": {},
   "outputs": [
    {
     "name": "stdout",
     "output_type": "stream",
     "text": [
      "Standard deviation = 4.002239529862775\n"
     ]
    }
   ],
   "source": [
    "S_n = 0 \n",
    "for i in range(shape):\n",
    "    S_n += (arr[i] - mean)**2\n",
    "    \n",
    "S_n = S_n/shape\n",
    "\n",
    "print('Standard deviation = ' + str(np.sqrt(S_n)))"
   ]
  },
  {
   "cell_type": "code",
   "execution_count": 9,
   "metadata": {},
   "outputs": [
    {
     "name": "stdout",
     "output_type": "stream",
     "text": [
      "Assymetry = -0.020111598352104836\n"
     ]
    }
   ],
   "source": [
    "# Importing from sts\n",
    "\n",
    "assymetry = sts.skew(arr)\n",
    "print('Assymetry = ' + str(assymetry))"
   ]
  },
  {
   "cell_type": "code",
   "execution_count": 10,
   "metadata": {
    "scrolled": false
   },
   "outputs": [
    {
     "name": "stdout",
     "output_type": "stream",
     "text": [
      "Kurtosis = -0.0103323384154832\n"
     ]
    }
   ],
   "source": [
    "\n",
    "kurt = sts.kurtosis(arr)\n",
    "print('Kurtosis = ' + str(kurt))"
   ]
  },
  {
   "cell_type": "code",
   "execution_count": 17,
   "metadata": {},
   "outputs": [
    {
     "name": "stdout",
     "output_type": "stream",
     "text": [
      "5.3894306483521595\n"
     ]
    }
   ],
   "source": [
    "#Quantil\n",
    "\n",
    "len(arr)/4\n",
    "\n",
    "quantil = (arr[1627]+arr[1626])/2-(arr[541]+arr[542])/2\n",
    "\n",
    "print(quantil)"
   ]
  },
  {
   "cell_type": "markdown",
   "metadata": {},
   "source": [
    "#### Looks like Normal dist.\n"
   ]
  },
  {
   "cell_type": "markdown",
   "metadata": {},
   "source": [
    "##### data_2"
   ]
  },
  {
   "cell_type": "code",
   "execution_count": 90,
   "metadata": {},
   "outputs": [],
   "source": [
    "#print(data_2)\n",
    "arr_2 = []\n",
    "\n",
    "for x in data_2:\n",
    "    if x not in arr_2:\n",
    "        arr_2.append(x)"
   ]
  },
  {
   "cell_type": "code",
   "execution_count": 95,
   "metadata": {},
   "outputs": [
    {
     "name": "stdout",
     "output_type": "stream",
     "text": [
      "{'q': 0, 'r': 1, 'y': 2, 'k': 3, 'w': 4, 'x': 5, 'e': 6, 's': 7, 'm': 8, 'z': 9, 'c': 10, 'g': 11, 'b': 12, 'u': 13, 'l': 14, 't': 15, 'o': 16, 'd': 17, 'i': 18, 'n': 19, 'v': 20, 'j': 21, 'a': 22, 'h': 23, 'f': 24, 'p': 25}\n"
     ]
    }
   ],
   "source": [
    "integers = [x for x in range(26)]\n",
    "\n",
    "dict_alp = dict(zip(arr_2,integers))\n",
    "\n",
    "arr_res = []\n",
    "\n",
    "for x in data_2:\n",
    "    arr_res.append(dict_alp[x])\n",
    "    \n",
    "print(dict_alp)"
   ]
  },
  {
   "cell_type": "code",
   "execution_count": 89,
   "metadata": {},
   "outputs": [
    {
     "data": {
      "image/png": "[encoded data removed]",
      "text/plain": [
       "<Figure size 432x288 with 1 Axes>"
      ]
     },
     "metadata": {
      "needs_background": "light"
     },
     "output_type": "display_data"
    }
   ],
   "source": [
    "# data_1\n",
    "\n",
    "num_bins = 27-1\n",
    "n, bins, patches = plt.hist(arr_res, num_bins, density = False, facecolor='blue', alpha=0.5)\n",
    "\n",
    "#plt.plot(bins, y, 'r--')\n",
    "plt.xlabel('x')\n",
    "plt.ylabel('Quantity')\n",
    "plt.title(r'Histogram')\n",
    "\n",
    "#plt.subplots_adjust(left=0.15)\n",
    "plt.show()"
   ]
  },
  {
   "cell_type": "code",
   "execution_count": 98,
   "metadata": {},
   "outputs": [
    {
     "name": "stdout",
     "output_type": "stream",
     "text": [
      "Distribution trend is element - r\n"
     ]
    }
   ],
   "source": [
    "def max_count(array, uniq_array):\n",
    "    max_1 = 0\n",
    "    trend = ''\n",
    "    for x in uniq_array:\n",
    "        res = array.count(x)\n",
    "        if res > max_1:\n",
    "            max_1 = res\n",
    "            trend = x\n",
    "        else:\n",
    "            continue\n",
    "    return trend\n",
    "\n",
    "moda = max_count(data_2, arr_2)\n",
    "\n",
    "print('Distribution trend is element - ' + str(moda))"
   ]
  },
  {
   "cell_type": "code",
   "execution_count": 99,
   "metadata": {},
   "outputs": [
    {
     "name": "stdout",
     "output_type": "stream",
     "text": [
      "Entropy = 7.462789809485906\n"
     ]
    }
   ],
   "source": [
    "ent = sts.entropy(arr_res)\n",
    "\n",
    "print('Entropy = ' + str(ent))"
   ]
  },
  {
   "cell_type": "markdown",
   "metadata": {},
   "source": [
    "#### Seems like uniform dist."
   ]
  },
  {
   "cell_type": "markdown",
   "metadata": {},
   "source": [
    "##### data_3"
   ]
  },
  {
   "cell_type": "code",
   "execution_count": 103,
   "metadata": {},
   "outputs": [],
   "source": [
    "arr_3 = []\n",
    "\n",
    "for i in range(len(data_3)):\n",
    "    arr_3.append(float(data_3[i]))\n",
    "\n",
    "arr_3.sort()\n",
    "#print(arr)"
   ]
  },
  {
   "cell_type": "code",
   "execution_count": 104,
   "metadata": {},
   "outputs": [
    {
     "data": {
      "image/png": "[encoded data removed]",
      "text/plain": [
       "<Figure size 432x288 with 1 Axes>"
      ]
     },
     "metadata": {
      "needs_background": "light"
     },
     "output_type": "display_data"
    }
   ],
   "source": [
    "# data_3\n",
    "\n",
    "num_bins = 20-1\n",
    "n, bins, patches = plt.hist(arr_3, num_bins, density = False, facecolor='blue', alpha=0.5)\n",
    "\n",
    "#plt.plot(bins, y, 'r--')\n",
    "plt.xlabel('x')\n",
    "plt.ylabel('Quantity')\n",
    "plt.title(r'Histogram')\n",
    "\n",
    "#plt.subplots_adjust(left=0.15)\n",
    "plt.show()"
   ]
  },
  {
   "cell_type": "code",
   "execution_count": 105,
   "metadata": {},
   "outputs": [
    {
     "name": "stdout",
     "output_type": "stream",
     "text": [
      "Median of data_1 = 2.0533324302762\n"
     ]
    }
   ],
   "source": [
    "arr_3 = np.array(arr_3)\n",
    "\n",
    "shape = arr_3.shape[0]\n",
    "index = shape//2\n",
    "print('Median of data_1 = ' + str(arr[index]))"
   ]
  },
  {
   "cell_type": "code",
   "execution_count": 106,
   "metadata": {},
   "outputs": [
    {
     "name": "stdout",
     "output_type": "stream",
     "text": [
      "Mean of data_1 = 2.0585485590386146\n"
     ]
    }
   ],
   "source": [
    "print('Mean of data_1 = ' +str(arr.mean()))\n",
    "mean = arr_3.mean()"
   ]
  },
  {
   "cell_type": "code",
   "execution_count": 107,
   "metadata": {},
   "outputs": [
    {
     "name": "stdout",
     "output_type": "stream",
     "text": [
      "Standard deviation = 1.5269614285617348\n"
     ]
    }
   ],
   "source": [
    "S_n = 0 \n",
    "for i in range(shape):\n",
    "    S_n += (arr_3[i] - mean)**2\n",
    "    \n",
    "S_n = S_n/shape\n",
    "\n",
    "print('Standard deviation = ' + str(np.sqrt(S_n)))"
   ]
  },
  {
   "cell_type": "code",
   "execution_count": 108,
   "metadata": {},
   "outputs": [
    {
     "name": "stdout",
     "output_type": "stream",
     "text": [
      "Assymetry = 0.6651282228551301\n"
     ]
    }
   ],
   "source": [
    "# Importing from sts\n",
    "\n",
    "assymetry = sts.skew(arr_3)\n",
    "print('Assymetry = ' + str(assymetry))"
   ]
  },
  {
   "cell_type": "code",
   "execution_count": 109,
   "metadata": {
    "scrolled": false
   },
   "outputs": [
    {
     "name": "stdout",
     "output_type": "stream",
     "text": [
      "Kurtosis = 0.3908554881505024\n"
     ]
    }
   ],
   "source": [
    "\n",
    "kurt = sts.kurtosis(arr_3)\n",
    "print('Kurtosis = ' + str(kurt))"
   ]
  },
  {
   "cell_type": "markdown",
   "metadata": {},
   "source": [
    "#### SHOULD BE Poisson"
   ]
  },
  {
   "cell_type": "code",
   "execution_count": null,
   "metadata": {},
   "outputs": [],
   "source": []
  }
 ],
 "metadata": {
  "kernelspec": {
   "display_name": "Python 3",
   "language": "python",
   "name": "python3"
  },
  "language_info": {
   "codemirror_mode": {
    "name": "ipython",
    "version": 3
   },
   "file_extension": ".py",
   "mimetype": "text/x-python",
   "name": "python",
   "nbconvert_exporter": "python",
   "pygments_lexer": "ipython3",
   "version": "3.7.3"
  }
 },
 "nbformat": 4,
 "nbformat_minor": 2
}
