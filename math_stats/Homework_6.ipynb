{
 "cells": [
  {
   "cell_type": "code",
   "execution_count": 33,
   "metadata": {},
   "outputs": [],
   "source": [
    "import scipy.stats as sts\n",
    "import scipy.special as scp\n",
    "import numpy as np\n",
    "import matplotlib.pyplot as plt"
   ]
  },
  {
   "cell_type": "code",
   "execution_count": 19,
   "metadata": {},
   "outputs": [
    {
     "data": {
      "text/plain": [
       "['Ex1a', 'Ex1b', 'Ex1c', 'Ex2', 'Ex3', 'Ex4\\n']"
      ]
     },
     "execution_count": 19,
     "metadata": {},
     "output_type": "execute_result"
    }
   ],
   "source": [
    "f = open('IB_statistics_data_hw6.txt', 'r')\n",
    "line_1 = f.readline()\n",
    "list_ex = line_1.split(' ')\n",
    "list_ex"
   ]
  },
  {
   "cell_type": "code",
   "execution_count": 20,
   "metadata": {},
   "outputs": [],
   "source": [
    "data = [[] for x in range(len(list_ex))]\n",
    "data\n",
    "\n",
    "for line in f:\n",
    "    res = line.split(' ')\n",
    "    for i in range(len(res)):\n",
    "        data[i].append(res[i])\n",
    "        \n",
    "for i in range(len(data)-1):\n",
    "    for j in range(len(data[0])):\n",
    "        data[i][j] = float(data[i][j])"
   ]
  },
  {
   "cell_type": "code",
   "execution_count": 51,
   "metadata": {},
   "outputs": [
    {
     "name": "stdout",
     "output_type": "stream",
     "text": [
      "36.857142857142854 70\n"
     ]
    }
   ],
   "source": [
    "#1a\n",
    "\n",
    "arr_1 = data[0]\n",
    "arr_1 = np.array(sorted(arr_1))\n",
    "arr_1 = arr_1.reshape((7, 10))\n",
    "\n",
    "x_mean = arr_1.mean()\n",
    "n = len(arr_1)*10\n",
    "n_batches = len(arr_1)\n",
    "lambda_0 = 33.4\n",
    "\n",
    "print(x_mean, n)"
   ]
  },
  {
   "cell_type": "code",
   "execution_count": 49,
   "metadata": {},
   "outputs": [
    {
     "data": {
      "text/plain": [
       "array([[24., 24., 25., 26., 26., 26., 28., 28., 29., 29.],\n",
       "       [30., 30., 31., 31., 31., 31., 32., 33., 33., 33.],\n",
       "       [33., 34., 34., 34., 34., 34., 35., 35., 35., 35.],\n",
       "       [35., 35., 36., 36., 36., 37., 37., 37., 37., 38.],\n",
       "       [38., 38., 38., 38., 38., 39., 39., 39., 40., 40.],\n",
       "       [40., 40., 41., 41., 41., 42., 42., 44., 45., 45.],\n",
       "       [46., 46., 46., 48., 48., 48., 49., 50., 51., 53.]])"
      ]
     },
     "execution_count": 49,
     "metadata": {},
     "output_type": "execute_result"
    }
   ],
   "source": [
    "arr_1"
   ]
  },
  {
   "cell_type": "code",
   "execution_count": 59,
   "metadata": {},
   "outputs": [
    {
     "name": "stdout",
     "output_type": "stream",
     "text": [
      "1.237344245791203 53.59779992341472 14.44937533544792\n"
     ]
    }
   ],
   "source": [
    "def dist_func_1(x, lambda_0):\n",
    "    k = 0\n",
    "    sum_tmp = 0\n",
    "    while k < x:\n",
    "        sum_tmp += (lambda_0**k)*np.exp(-lambda_0)/np.math.factorial(k)\n",
    "        k += 1\n",
    "    return sum_tmp\n",
    "        \n",
    "\n",
    "#prepairing data\n",
    "data_chi2 = []\n",
    "chi_2 = 0\n",
    "for x in arr_1:\n",
    "    tmp = x\n",
    "    l = len(tmp)\n",
    "    p = dist_func_1(tmp[-1], lambda_0) - dist_func_1(tmp[0], lambda_0)\n",
    "    chi_2 += ((l-n*p)**2)/(n*p)\n",
    "g1 = sts.chi2.ppf(0.025, n_batches-1)\n",
    "g2 = sts.chi2.ppf(0.975, n_batches-1)\n",
    "\n",
    "print(g1, chi_2, g2)"
   ]
  },
  {
   "cell_type": "code",
   "execution_count": 52,
   "metadata": {},
   "outputs": [
    {
     "name": "stdout",
     "output_type": "stream",
     "text": [
      "1.237344245791203 14.44937533544792\n"
     ]
    }
   ],
   "source": [
    "g1 = sts.chi2.ppf(0.025, n_batches-1)\n",
    "g2 = sts.chi2.ppf(0.975, n_batches-1)\n",
    "print(g1,g2)"
   ]
  },
  {
   "cell_type": "code",
   "execution_count": 60,
   "metadata": {},
   "outputs": [
    {
     "name": "stdout",
     "output_type": "stream",
     "text": [
      "-1.9599639845400545 1.959963984540054 -5.004873587175795\n"
     ]
    }
   ],
   "source": [
    "g_1 = sts.norm.ppf(0.025)\n",
    "g_2 = sts.norm.ppf(0.975)\n",
    "\n",
    "s = np.sqrt(n/lambda_0)*(lambda_0 - x_mean)\n",
    "print(g_1, g_2, s)"
   ]
  },
  {
   "cell_type": "code",
   "execution_count": 62,
   "metadata": {},
   "outputs": [
    {
     "data": {
      "text/plain": [
       "0.0006648630329700866"
      ]
     },
     "execution_count": 62,
     "metadata": {},
     "output_type": "execute_result"
    }
   ],
   "source": [
    "dist_func_1(53, lambda_0) - dist_func_1(52, lambda_0)"
   ]
  },
  {
   "cell_type": "code",
   "execution_count": null,
   "metadata": {},
   "outputs": [],
   "source": []
  }
 ],
 "metadata": {
  "kernelspec": {
   "display_name": "Python 3",
   "language": "python",
   "name": "python3"
  },
  "language_info": {
   "codemirror_mode": {
    "name": "ipython",
    "version": 3
   },
   "file_extension": ".py",
   "mimetype": "text/x-python",
   "name": "python",
   "nbconvert_exporter": "python",
   "pygments_lexer": "ipython3",
   "version": "3.7.3"
  }
 },
 "nbformat": 4,
 "nbformat_minor": 2
}
