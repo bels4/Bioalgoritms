{
 "cells": [
  {
   "cell_type": "code",
   "execution_count": 1,
   "metadata": {},
   "outputs": [],
   "source": [
    "import scipy.stats as sts\n",
    "import scipy.special as scp\n",
    "import numpy as np\n",
    "import matplotlib.pyplot as plt"
   ]
  },
  {
   "cell_type": "code",
   "execution_count": 2,
   "metadata": {},
   "outputs": [
    {
     "data": {
      "text/plain": [
       "['Ex1a', 'Ex1b', 'Ex1c', 'Ex2', 'Ex3', 'Ex4\\n']"
      ]
     },
     "execution_count": 2,
     "metadata": {},
     "output_type": "execute_result"
    }
   ],
   "source": [
    "f = open('IB_statistics_data_hw6.txt', 'r')\n",
    "line_1 = f.readline()\n",
    "list_ex = line_1.split(' ')\n",
    "list_ex"
   ]
  },
  {
   "cell_type": "code",
   "execution_count": 3,
   "metadata": {},
   "outputs": [],
   "source": [
    "data = [[] for x in range(len(list_ex))]\n",
    "data\n",
    "\n",
    "for line in f:\n",
    "    res = line.split(' ')\n",
    "    for i in range(len(res)):\n",
    "        data[i].append(res[i])\n",
    "        \n",
    "for i in range(len(data)-1):\n",
    "    for j in range(len(data[0])):\n",
    "        data[i][j] = float(data[i][j])"
   ]
  },
  {
   "cell_type": "code",
   "execution_count": 4,
   "metadata": {},
   "outputs": [
    {
     "name": "stdout",
     "output_type": "stream",
     "text": [
      "36.857142857142854 70\n"
     ]
    }
   ],
   "source": [
    "#1a\n",
    "\n",
    "arr_1 = data[0]\n",
    "arr_1 = np.array(sorted(arr_1))\n",
    "arr_1 = arr_1.reshape((7, 10))\n",
    "\n",
    "x_mean = arr_1.mean()\n",
    "n = len(arr_1)*10\n",
    "n_batches = len(arr_1)\n",
    "lambda_0 = 33.4\n",
    "\n",
    "print(x_mean, n)"
   ]
  },
  {
   "cell_type": "code",
   "execution_count": 5,
   "metadata": {},
   "outputs": [
    {
     "data": {
      "text/plain": [
       "array([[24., 24., 25., 26., 26., 26., 28., 28., 29., 29.],\n",
       "       [30., 30., 31., 31., 31., 31., 32., 33., 33., 33.],\n",
       "       [33., 34., 34., 34., 34., 34., 35., 35., 35., 35.],\n",
       "       [35., 35., 36., 36., 36., 37., 37., 37., 37., 38.],\n",
       "       [38., 38., 38., 38., 38., 39., 39., 39., 40., 40.],\n",
       "       [40., 40., 41., 41., 41., 42., 42., 44., 45., 45.],\n",
       "       [46., 46., 46., 48., 48., 48., 49., 50., 51., 53.]])"
      ]
     },
     "execution_count": 5,
     "metadata": {},
     "output_type": "execute_result"
    }
   ],
   "source": [
    "arr_1"
   ]
  },
  {
   "cell_type": "code",
   "execution_count": 6,
   "metadata": {},
   "outputs": [
    {
     "name": "stdout",
     "output_type": "stream",
     "text": [
      "1.237344245791203 53.59779992341472 14.44937533544792\n"
     ]
    }
   ],
   "source": [
    "def dist_func_1(x, lambda_0):\n",
    "    k = 0\n",
    "    sum_tmp = 0\n",
    "    while k < x:\n",
    "        sum_tmp += (lambda_0**k)*np.exp(-lambda_0)/np.math.factorial(k)\n",
    "        k += 1\n",
    "    return sum_tmp\n",
    "        \n",
    "\n",
    "#prepairing data\n",
    "data_chi2 = []\n",
    "chi_2 = 0\n",
    "for x in arr_1:\n",
    "    tmp = x\n",
    "    l = len(tmp)\n",
    "    p = dist_func_1(tmp[-1], lambda_0) - dist_func_1(tmp[0], lambda_0)\n",
    "    chi_2 += ((l-n*p)**2)/(n*p)\n",
    "g1 = sts.chi2.ppf(0.025, n_batches-1)\n",
    "g2 = sts.chi2.ppf(0.975, n_batches-1)\n",
    "\n",
    "print(g1, chi_2, g2)"
   ]
  },
  {
   "cell_type": "code",
   "execution_count": 7,
   "metadata": {},
   "outputs": [
    {
     "name": "stdout",
     "output_type": "stream",
     "text": [
      "1.237344245791203 14.44937533544792\n"
     ]
    }
   ],
   "source": [
    "g1 = sts.chi2.ppf(0.025, n_batches-1)\n",
    "g2 = sts.chi2.ppf(0.975, n_batches-1)\n",
    "print(g1,g2)"
   ]
  },
  {
   "cell_type": "code",
   "execution_count": 8,
   "metadata": {
    "scrolled": false
   },
   "outputs": [
    {
     "name": "stdout",
     "output_type": "stream",
     "text": [
      "-1.9599639845400545 1.959963984540054 -5.004873587175795\n"
     ]
    }
   ],
   "source": [
    "g_1 = sts.norm.ppf(0.025)\n",
    "g_2 = sts.norm.ppf(0.975)\n",
    "\n",
    "s = np.sqrt(n/lambda_0)*(lambda_0 - x_mean)\n",
    "print(g_1, g_2, s)"
   ]
  },
  {
   "cell_type": "markdown",
   "metadata": {},
   "source": [
    "### 1c"
   ]
  },
  {
   "cell_type": "code",
   "execution_count": 80,
   "metadata": {},
   "outputs": [
    {
     "name": "stdout",
     "output_type": "stream",
     "text": [
      "8.728571428571428 70\n"
     ]
    }
   ],
   "source": [
    "arr_3 = data[1]\n",
    "arr_2 = np.array(sorted(arr_2))\n",
    "arr_2_re = arr_2.reshape((7, 10))\n",
    "\n",
    "x_mean = arr_2.mean()\n",
    "n = len(arr_2)\n",
    "X_ep = arr_2\n",
    "n_batches = len(arr_2_re)\n",
    "\n",
    "print(x_mean, n)"
   ]
  },
  {
   "cell_type": "code",
   "execution_count": 81,
   "metadata": {},
   "outputs": [
    {
     "data": {
      "text/plain": [
       "array([[ 2.,  3.,  3.,  3.,  3.,  4.,  4.,  4.,  4.,  4.],\n",
       "       [ 5.,  5.,  5.,  5.,  5.,  5.,  5.,  5.,  6.,  6.],\n",
       "       [ 6.,  6.,  6.,  6.,  6.,  7.,  7.,  7.,  7.,  7.],\n",
       "       [ 7.,  7.,  7.,  8.,  8.,  8.,  8.,  8.,  9.,  9.],\n",
       "       [ 9.,  9.,  9.,  9., 10., 10., 10., 10., 10., 11.],\n",
       "       [11., 11., 11., 11., 12., 12., 13., 13., 13., 13.],\n",
       "       [13., 14., 15., 15., 16., 16., 17., 19., 19., 20.]])"
      ]
     },
     "execution_count": 81,
     "metadata": {},
     "output_type": "execute_result"
    }
   ],
   "source": [
    "arr_2_re"
   ]
  },
  {
   "cell_type": "code",
   "execution_count": 83,
   "metadata": {},
   "outputs": [
    {
     "name": "stdout",
     "output_type": "stream",
     "text": [
      "1.237344245791203 28.200884753790845 14.44937533544792\n"
     ]
    },
    {
     "data": {
      "text/plain": [
       "<function matplotlib.pyplot.show(*args, **kw)>"
      ]
     },
     "execution_count": 83,
     "metadata": {},
     "output_type": "execute_result"
    },
    {
     "data": {
      "image/png": "[encoded data removed]",
      "text/plain": [
       "<Figure size 720x576 with 1 Axes>"
      ]
     },
     "metadata": {
      "needs_background": "light"
     },
     "output_type": "display_data"
    }
   ],
   "source": [
    "def dist_func_2(x):\n",
    "    return sts.nbinom.cdf(x, 7, 0.51)\n",
    "        \n",
    "\n",
    "#prepairing data\n",
    "\n",
    "chi_2 = 0\n",
    "for x in arr_2_re:\n",
    "    tmp = x\n",
    "    l = len(tmp)\n",
    "    p = dist_func_2(tmp[-1]) - dist_func_2(tmp[0])\n",
    "    if n*p < 0.00001:\n",
    "        print(x)\n",
    "    chi_2 += ((l-n*p)**2)/(n*p)\n",
    "g1 = sts.chi2.ppf(0.025, n_batches-1)\n",
    "g2 = sts.chi2.ppf(0.975, n_batches-1)\n",
    "\n",
    "print(g1, chi_2, g2)\n",
    "\n",
    "X = np.linspace(0, 20, 2000)\n",
    "Y = dist_func_2(X)\n",
    "Y_ep, w = emp_dist_func(X_ep)\n",
    "\n",
    "f = plt.figure(figsize = (10, 8))\n",
    "plt.plot(X, Y, label = 'theoretical')\n",
    "plt.plot(X_ep, Y_ep, label = 'empirical')\n",
    "plt.legend()\n",
    "plt.grid()\n",
    "plt.show"
   ]
  },
  {
   "cell_type": "code",
   "execution_count": 85,
   "metadata": {
    "scrolled": true
   },
   "outputs": [
    {
     "name": "stdout",
     "output_type": "stream",
     "text": [
      "-1.9599639845400545 -4.614989295482466 1.959963984540054\n"
     ]
    }
   ],
   "source": [
    "p = 0.51\n",
    "r = 7\n",
    "\n",
    "g_1 = sts.norm.ppf(0.025)\n",
    "g_2 = sts.norm.ppf(0.975)\n",
    "\n",
    "s = np.sqrt(n*(p**2)/(r*(1-p)))*(r*(1-p)/p - x_mean)\n",
    "print(g_1, s, g_2)"
   ]
  },
  {
   "cell_type": "markdown",
   "metadata": {},
   "source": [
    "### 1b"
   ]
  },
  {
   "cell_type": "code",
   "execution_count": 80,
   "metadata": {},
   "outputs": [
    {
     "name": "stdout",
     "output_type": "stream",
     "text": [
      "8.728571428571428 70\n"
     ]
    }
   ],
   "source": [
    "arr_2 = data[1]\n",
    "arr_2 = np.array(sorted(arr_2))\n",
    "arr_2_re = arr_2.reshape((7, 10))\n",
    "\n",
    "x_mean = arr_2.mean()\n",
    "n = len(arr_2)\n",
    "X_ep = arr_2\n",
    "n_batches = len(arr_2_re)\n",
    "\n",
    "print(x_mean, n)"
   ]
  },
  {
   "cell_type": "code",
   "execution_count": 81,
   "metadata": {},
   "outputs": [
    {
     "data": {
      "text/plain": [
       "array([[ 2.,  3.,  3.,  3.,  3.,  4.,  4.,  4.,  4.,  4.],\n",
       "       [ 5.,  5.,  5.,  5.,  5.,  5.,  5.,  5.,  6.,  6.],\n",
       "       [ 6.,  6.,  6.,  6.,  6.,  7.,  7.,  7.,  7.,  7.],\n",
       "       [ 7.,  7.,  7.,  8.,  8.,  8.,  8.,  8.,  9.,  9.],\n",
       "       [ 9.,  9.,  9.,  9., 10., 10., 10., 10., 10., 11.],\n",
       "       [11., 11., 11., 11., 12., 12., 13., 13., 13., 13.],\n",
       "       [13., 14., 15., 15., 16., 16., 17., 19., 19., 20.]])"
      ]
     },
     "execution_count": 81,
     "metadata": {},
     "output_type": "execute_result"
    }
   ],
   "source": [
    "arr_2_re"
   ]
  },
  {
   "cell_type": "code",
   "execution_count": 83,
   "metadata": {},
   "outputs": [
    {
     "name": "stdout",
     "output_type": "stream",
     "text": [
      "1.237344245791203 28.200884753790845 14.44937533544792\n"
     ]
    },
    {
     "data": {
      "text/plain": [
       "<function matplotlib.pyplot.show(*args, **kw)>"
      ]
     },
     "execution_count": 83,
     "metadata": {},
     "output_type": "execute_result"
    },
    {
     "data": {
      "image/png": "[encoded data removed]",
      "text/plain": [
       "<Figure size 720x576 with 1 Axes>"
      ]
     },
     "metadata": {
      "needs_background": "light"
     },
     "output_type": "display_data"
    }
   ],
   "source": [
    "def dist_func_2(x):\n",
    "    return sts.nbinom.cdf(x, 7, 0.51)\n",
    "        \n",
    "\n",
    "#prepairing data\n",
    "\n",
    "chi_2 = 0\n",
    "for x in arr_2_re:\n",
    "    tmp = x\n",
    "    l = len(tmp)\n",
    "    p = dist_func_2(tmp[-1]) - dist_func_2(tmp[0])\n",
    "    if n*p < 0.00001:\n",
    "        print(x)\n",
    "    chi_2 += ((l-n*p)**2)/(n*p)\n",
    "g1 = sts.chi2.ppf(0.025, n_batches-1)\n",
    "g2 = sts.chi2.ppf(0.975, n_batches-1)\n",
    "\n",
    "print(g1, chi_2, g2)\n",
    "\n",
    "X = np.linspace(0, 20, 2000)\n",
    "Y = dist_func_2(X)\n",
    "Y_ep, w = emp_dist_func(X_ep)\n",
    "\n",
    "f = plt.figure(figsize = (10, 8))\n",
    "plt.plot(X, Y, label = 'theoretical')\n",
    "plt.plot(X_ep, Y_ep, label = 'empirical')\n",
    "plt.legend()\n",
    "plt.grid()\n",
    "plt.show"
   ]
  },
  {
   "cell_type": "code",
   "execution_count": 85,
   "metadata": {
    "scrolled": false
   },
   "outputs": [
    {
     "name": "stdout",
     "output_type": "stream",
     "text": [
      "-1.9599639845400545 -4.614989295482466 1.959963984540054\n"
     ]
    }
   ],
   "source": [
    "p = 0.51\n",
    "r = 7\n",
    "\n",
    "g_1 = sts.norm.ppf(0.025)\n",
    "g_2 = sts.norm.ppf(0.975)\n",
    "\n",
    "s = np.sqrt(n*(p**2)/(r*(1-p)))*(r*(1-p)/p - x_mean)\n",
    "print(g_1, s, g_2)"
   ]
  },
  {
   "cell_type": "markdown",
   "metadata": {},
   "source": [
    "### 2"
   ]
  },
  {
   "cell_type": "code",
   "execution_count": 16,
   "metadata": {},
   "outputs": [
    {
     "name": "stdout",
     "output_type": "stream",
     "text": [
      "0.7953535133895179 70\n"
     ]
    }
   ],
   "source": [
    "#2\n",
    "\n",
    "arr_4 = data[3]\n",
    "arr_4 = np.array(sorted(arr_4))\n",
    "x_mean = arr_4.mean()\n",
    "X_ep = arr_4\n",
    "n = len(arr_4)\n",
    "\n",
    "print(x_mean, n)"
   ]
  },
  {
   "cell_type": "code",
   "execution_count": 35,
   "metadata": {},
   "outputs": [
    {
     "data": {
      "text/plain": [
       "<function matplotlib.pyplot.show(*args, **kw)>"
      ]
     },
     "execution_count": 35,
     "metadata": {},
     "output_type": "execute_result"
    },
    {
     "data": {
      "image/png": "[encoded data removed]",
      "text/plain": [
       "<Figure size 720x576 with 1 Axes>"
      ]
     },
     "metadata": {
      "needs_background": "light"
     },
     "output_type": "display_data"
    }
   ],
   "source": [
    "def dist_func_4(x):\n",
    "    return 0.2*sts.expon.cdf(x, scale = 1/5) + 0.8*sts.expon.cdf(x, scale = 1/1.25)\n",
    "\n",
    "def emp_dist_func(arr):\n",
    "    res = []\n",
    "    res_1 = []\n",
    "    n = len(arr)\n",
    "    for i in range(1,n+1):\n",
    "        res.append(i/n)\n",
    "        res_1.append((i-1)/n)\n",
    "    return res, res_1\n",
    "\n",
    "X = np.linspace(0, 6, 2000)\n",
    "Y = dist_func_4(X)\n",
    "Y_ep, w = emp_dist_func(X_ep)\n",
    "\n",
    "f = plt.figure(figsize = (10, 8))\n",
    "plt.plot(X, Y, label = 'theoretical')\n",
    "plt.plot(X_ep, Y_ep, label = 'empirical')\n",
    "plt.legend()\n",
    "plt.grid()\n",
    "plt.show"
   ]
  },
  {
   "cell_type": "code",
   "execution_count": 36,
   "metadata": {},
   "outputs": [
    {
     "name": "stdout",
     "output_type": "stream",
     "text": [
      "0.38693582935441\n"
     ]
    },
    {
     "data": {
      "text/plain": [
       "1.4883552425864475"
      ]
     },
     "execution_count": 36,
     "metadata": {},
     "output_type": "execute_result"
    }
   ],
   "source": [
    "func = dist_func_4\n",
    "\n",
    "def finding_sup(X_ep, emp_dist_func:callable, func:callable):\n",
    "    res = 0\n",
    "    x_ind = 0 \n",
    "    n = len(X_ep)\n",
    "    Y_ep, Y_ep_1 = emp_dist_func(X_ep)\n",
    "    for i in range(n):\n",
    "        m = np.sqrt(n)*abs(Y_ep[i] - func(X_ep[i]))\n",
    "        m_1 = np.sqrt(n)*abs(Y_ep_1[i] - func(X_ep[i]))\n",
    "        if m > res:\n",
    "            res = m\n",
    "            x_ind = X_ep[i]\n",
    "        if m_1 > res:\n",
    "            res = m_1\n",
    "            x_ind = X_ep[i]\n",
    "    print(x_ind)\n",
    "    return res\n",
    "\n",
    "# KOLMOGOROV\n",
    "t = finding_sup(X_ep, emp_dist_func, func)\n",
    "t"
   ]
  },
  {
   "cell_type": "code",
   "execution_count": 37,
   "metadata": {},
   "outputs": [
    {
     "name": "stdout",
     "output_type": "stream",
     "text": [
      "-1.9599639845400545 -1.3383761067279922 1.959963984540054\n"
     ]
    }
   ],
   "source": [
    "lam = 0.2*1/5 + 0.8/1.25\n",
    "std = np.sqrt(0.2*(1/5**2) + 0.8/(1.25**2))\n",
    "g_1 = sts.norm.ppf(0.025)\n",
    "g_2 = sts.norm.ppf(0.975)\n",
    "\n",
    "s = np.sqrt(n)*(lam - x_mean)/std\n",
    "print(g_1, s, g_2)"
   ]
  },
  {
   "cell_type": "code",
   "execution_count": null,
   "metadata": {},
   "outputs": [],
   "source": []
  }
 ],
 "metadata": {
  "kernelspec": {
   "display_name": "Python 3",
   "language": "python",
   "name": "python3"
  },
  "language_info": {
   "codemirror_mode": {
    "name": "ipython",
    "version": 3
   },
   "file_extension": ".py",
   "mimetype": "text/x-python",
   "name": "python",
   "nbconvert_exporter": "python",
   "pygments_lexer": "ipython3",
   "version": "3.7.3"
  }
 },
 "nbformat": 4,
 "nbformat_minor": 2
}
