{
 "cells": [
  {
   "cell_type": "code",
   "execution_count": 1,
   "metadata": {},
   "outputs": [],
   "source": [
    "import scipy.stats as sts\n",
    "import scipy.special as scp\n",
    "import numpy as np\n",
    "import matplotlib.pyplot as plt"
   ]
  },
  {
   "cell_type": "code",
   "execution_count": 2,
   "metadata": {},
   "outputs": [
    {
     "data": {
      "text/plain": [
       "['Ex1a', 'Ex1b', 'Ex1c', 'Ex2', 'Ex3', 'Ex4\\n']"
      ]
     },
     "execution_count": 2,
     "metadata": {},
     "output_type": "execute_result"
    }
   ],
   "source": [
    "f = open('IB_statistics_data_hw6.txt', 'r')\n",
    "line_1 = f.readline()\n",
    "list_ex = line_1.split(' ')\n",
    "list_ex"
   ]
  },
  {
   "cell_type": "code",
   "execution_count": 3,
   "metadata": {},
   "outputs": [],
   "source": [
    "data = [[] for x in range(len(list_ex))]\n",
    "data\n",
    "\n",
    "for line in f:\n",
    "    res = line.split(' ')\n",
    "    for i in range(len(res)):\n",
    "        data[i].append(res[i])\n",
    "        \n",
    "for i in range(len(data)-1):\n",
    "    for j in range(len(data[0])):\n",
    "        data[i][j] = float(data[i][j])"
   ]
  },
  {
   "cell_type": "code",
   "execution_count": 4,
   "metadata": {},
   "outputs": [
    {
     "name": "stdout",
     "output_type": "stream",
     "text": [
      "36.857142857142854 70\n"
     ]
    }
   ],
   "source": [
    "#1a\n",
    "\n",
    "arr_1 = data[0]\n",
    "arr_1 = np.array(sorted(arr_1))\n",
    "arr_1 = arr_1.reshape((7, 10))\n",
    "\n",
    "x_mean = arr_1.mean()\n",
    "n = len(arr_1)*10\n",
    "n_batches = len(arr_1)\n",
    "lambda_0 = 33.4\n",
    "\n",
    "print(x_mean, n)"
   ]
  },
  {
   "cell_type": "code",
   "execution_count": 5,
   "metadata": {},
   "outputs": [
    {
     "data": {
      "text/plain": [
       "array([[24., 24., 25., 26., 26., 26., 28., 28., 29., 29.],\n",
       "       [30., 30., 31., 31., 31., 31., 32., 33., 33., 33.],\n",
       "       [33., 34., 34., 34., 34., 34., 35., 35., 35., 35.],\n",
       "       [35., 35., 36., 36., 36., 37., 37., 37., 37., 38.],\n",
       "       [38., 38., 38., 38., 38., 39., 39., 39., 40., 40.],\n",
       "       [40., 40., 41., 41., 41., 42., 42., 44., 45., 45.],\n",
       "       [46., 46., 46., 48., 48., 48., 49., 50., 51., 53.]])"
      ]
     },
     "execution_count": 5,
     "metadata": {},
     "output_type": "execute_result"
    }
   ],
   "source": [
    "arr_1"
   ]
  },
  {
   "cell_type": "code",
   "execution_count": 6,
   "metadata": {},
   "outputs": [
    {
     "name": "stdout",
     "output_type": "stream",
     "text": [
      "Chi square:\n",
      "1.237344245791203 53.59779992341472 14.44937533544792\n"
     ]
    }
   ],
   "source": [
    "def dist_func_1(x, lambda_0):\n",
    "    k = 0\n",
    "    sum_tmp = 0\n",
    "    while k < x:\n",
    "        sum_tmp += (lambda_0**k)*np.exp(-lambda_0)/np.math.factorial(k)\n",
    "        k += 1\n",
    "    return sum_tmp\n",
    "        \n",
    "\n",
    "#Chi2\n",
    "data_chi2 = []\n",
    "chi_2 = 0\n",
    "for x in arr_1:\n",
    "    tmp = x\n",
    "    l = len(tmp)\n",
    "    p = dist_func_1(tmp[-1], lambda_0) - dist_func_1(tmp[0], lambda_0)\n",
    "    chi_2 += ((l-n*p)**2)/(n*p)\n",
    "g1 = sts.chi2.ppf(0.025, n_batches-1)\n",
    "g2 = sts.chi2.ppf(0.975, n_batches-1)\n",
    "\n",
    "print('Chi square:')\n",
    "print(g1, chi_2, g2)"
   ]
  },
  {
   "cell_type": "code",
   "execution_count": 7,
   "metadata": {
    "scrolled": false
   },
   "outputs": [
    {
     "name": "stdout",
     "output_type": "stream",
     "text": [
      "ЦПТ:\n",
      "-1.9599639845400545 -5.004873587175795 1.959963984540054\n"
     ]
    }
   ],
   "source": [
    "# ЦПТ\n",
    "\n",
    "g_1 = sts.norm.ppf(0.025)\n",
    "g_2 = sts.norm.ppf(0.975)\n",
    "\n",
    "s = np.sqrt(n/lambda_0)*(lambda_0 - x_mean)\n",
    "\n",
    "print('ЦПТ:')\n",
    "print(g_1, s, g_2)"
   ]
  },
  {
   "cell_type": "markdown",
   "metadata": {},
   "source": [
    "### 1c"
   ]
  },
  {
   "cell_type": "code",
   "execution_count": 18,
   "metadata": {},
   "outputs": [
    {
     "name": "stdout",
     "output_type": "stream",
     "text": [
      "10.557142857142857 70\n"
     ]
    }
   ],
   "source": [
    "arr_3 = data[2]\n",
    "arr_3 = np.array(sorted(arr_3))\n",
    "arr_3_re = arr_3.reshape((5, 14))\n",
    "\n",
    "x_mean = arr_3.mean()\n",
    "n = len(arr_3)\n",
    "X_ep = arr_3\n",
    "n_batches = len(arr_3_re)\n",
    "\n",
    "print(x_mean, n)"
   ]
  },
  {
   "cell_type": "code",
   "execution_count": 19,
   "metadata": {},
   "outputs": [
    {
     "data": {
      "text/plain": [
       "array([[ 0.,  0.,  0.,  0.,  0.,  0.,  0.,  0.,  0.,  1.,  1.,  1.,  2.,\n",
       "         3.],\n",
       "       [ 3.,  4.,  5.,  5.,  5.,  5.,  6.,  6.,  7.,  7.,  8.,  8.,  8.,\n",
       "         8.],\n",
       "       [ 8.,  8.,  8.,  9., 10., 10., 10., 11., 11., 11., 12., 12., 12.,\n",
       "        13.],\n",
       "       [13., 14., 14., 15., 15., 16., 16., 16., 17., 17., 17., 17., 18.,\n",
       "        18.],\n",
       "       [19., 19., 20., 20., 20., 20., 20., 20., 20., 20., 20., 20., 20.,\n",
       "        20.]])"
      ]
     },
     "execution_count": 19,
     "metadata": {},
     "output_type": "execute_result"
    }
   ],
   "source": [
    "arr_3_re"
   ]
  },
  {
   "cell_type": "code",
   "execution_count": 20,
   "metadata": {
    "scrolled": false
   },
   "outputs": [
    {
     "name": "stdout",
     "output_type": "stream",
     "text": [
      "Chi square:\n",
      "0.48441855708793014 37.01333333333327 11.143286781877796\n"
     ]
    },
    {
     "data": {
      "text/plain": [
       "<function matplotlib.pyplot.show(*args, **kw)>"
      ]
     },
     "execution_count": 20,
     "metadata": {},
     "output_type": "execute_result"
    },
    {
     "data": {
      "image/png": "[encoded data removed]",
      "text/plain": [
       "<Figure size 720x576 with 1 Axes>"
      ]
     },
     "metadata": {
      "needs_background": "light"
     },
     "output_type": "display_data"
    }
   ],
   "source": [
    "def dist_func_3(x):\n",
    "    return sts.randint.cdf(x, 0, 21)\n",
    "        \n",
    "\n",
    "#prepairing data\n",
    "\n",
    "chi_2 = 0\n",
    "for x in arr_3_re:\n",
    "    tmp = x\n",
    "    l = len(tmp)\n",
    "    p = dist_func_3(tmp[-1]) - dist_func_3(tmp[0])\n",
    "    chi_2 += ((l-n*p)**2)/(n*p)\n",
    "    if n*p < 0.00001:\n",
    "        print(x)\n",
    "g1 = sts.chi2.ppf(0.025, n_batches-1)\n",
    "g2 = sts.chi2.ppf(0.975, n_batches-1)\n",
    "\n",
    "print('Chi square:')\n",
    "print(g1, chi_2, g2)\n",
    "\n",
    "X = np.linspace(0, 20, 2000)\n",
    "Y = dist_func_3(X)\n",
    "Y_ep, w = emp_dist_func(X_ep)\n",
    "\n",
    "f = plt.figure(figsize = (10, 8))\n",
    "plt.plot(X, Y, label = 'theoretical')\n",
    "plt.plot(X_ep, Y_ep, label = 'empirical')\n",
    "plt.legend()\n",
    "plt.grid()\n",
    "plt.show"
   ]
  },
  {
   "cell_type": "code",
   "execution_count": 21,
   "metadata": {
    "scrolled": true
   },
   "outputs": [
    {
     "name": "stdout",
     "output_type": "stream",
     "text": [
      "ЦПТ:\n",
      "-1.9599639845400545 -0.39873493330573306 1.959963984540054\n"
     ]
    }
   ],
   "source": [
    "std_2 = 0\n",
    "u = np.arange(0, 21)\n",
    "for x in u:\n",
    "    std_2 += (1/21)*(x**2)\n",
    "\n",
    "g_1 = sts.norm.ppf(0.025)\n",
    "g_2 = sts.norm.ppf(0.975)\n",
    "\n",
    "s = np.sqrt(n/std_2)*(10 - x_mean)\n",
    "\n",
    "print('ЦПТ:')\n",
    "print(g_1, s, g_2)"
   ]
  },
  {
   "cell_type": "markdown",
   "metadata": {},
   "source": [
    "### 1b"
   ]
  },
  {
   "cell_type": "code",
   "execution_count": 22,
   "metadata": {},
   "outputs": [
    {
     "name": "stdout",
     "output_type": "stream",
     "text": [
      "8.728571428571428 70\n"
     ]
    }
   ],
   "source": [
    "arr_2 = data[1]\n",
    "arr_2 = np.array(sorted(arr_2))\n",
    "arr_2_re = arr_2.reshape((7, 10))\n",
    "\n",
    "x_mean = arr_2.mean()\n",
    "n = len(arr_2)\n",
    "X_ep = arr_2\n",
    "n_batches = len(arr_2_re)\n",
    "\n",
    "print(x_mean, n)"
   ]
  },
  {
   "cell_type": "code",
   "execution_count": 23,
   "metadata": {},
   "outputs": [
    {
     "data": {
      "text/plain": [
       "array([[ 2.,  3.,  3.,  3.,  3.,  4.,  4.,  4.,  4.,  4.],\n",
       "       [ 5.,  5.,  5.,  5.,  5.,  5.,  5.,  5.,  6.,  6.],\n",
       "       [ 6.,  6.,  6.,  6.,  6.,  7.,  7.,  7.,  7.,  7.],\n",
       "       [ 7.,  7.,  7.,  8.,  8.,  8.,  8.,  8.,  9.,  9.],\n",
       "       [ 9.,  9.,  9.,  9., 10., 10., 10., 10., 10., 11.],\n",
       "       [11., 11., 11., 11., 12., 12., 13., 13., 13., 13.],\n",
       "       [13., 14., 15., 15., 16., 16., 17., 19., 19., 20.]])"
      ]
     },
     "execution_count": 23,
     "metadata": {},
     "output_type": "execute_result"
    }
   ],
   "source": [
    "arr_2_re"
   ]
  },
  {
   "cell_type": "code",
   "execution_count": 24,
   "metadata": {},
   "outputs": [
    {
     "name": "stdout",
     "output_type": "stream",
     "text": [
      "Chi square:\n",
      "1.237344245791203 28.200884753790845 14.44937533544792\n"
     ]
    },
    {
     "data": {
      "text/plain": [
       "<function matplotlib.pyplot.show(*args, **kw)>"
      ]
     },
     "execution_count": 24,
     "metadata": {},
     "output_type": "execute_result"
    },
    {
     "data": {
      "image/png": "[encoded data removed]",
      "text/plain": [
       "<Figure size 720x576 with 1 Axes>"
      ]
     },
     "metadata": {
      "needs_background": "light"
     },
     "output_type": "display_data"
    }
   ],
   "source": [
    "def dist_func_2(x):\n",
    "    return sts.nbinom.cdf(x, 7, 0.51)\n",
    "        \n",
    "\n",
    "#prepairing data\n",
    "\n",
    "chi_2 = 0\n",
    "for x in arr_2_re:\n",
    "    tmp = x\n",
    "    l = len(tmp)\n",
    "    p = dist_func_2(tmp[-1]) - dist_func_2(tmp[0])\n",
    "    if n*p < 0.00001:\n",
    "        print(x)\n",
    "    chi_2 += ((l-n*p)**2)/(n*p)\n",
    "g1 = sts.chi2.ppf(0.025, n_batches-1)\n",
    "g2 = sts.chi2.ppf(0.975, n_batches-1)\n",
    "\n",
    "print('Chi square:')\n",
    "print(g1, chi_2, g2)\n",
    "\n",
    "X = np.linspace(0, 20, 2000)\n",
    "Y = dist_func_2(X)\n",
    "Y_ep, w = emp_dist_func(X_ep)\n",
    "\n",
    "f = plt.figure(figsize = (10, 8))\n",
    "plt.plot(X, Y, label = 'theoretical')\n",
    "plt.plot(X_ep, Y_ep, label = 'empirical')\n",
    "plt.legend()\n",
    "plt.grid()\n",
    "plt.show"
   ]
  },
  {
   "cell_type": "code",
   "execution_count": 25,
   "metadata": {
    "scrolled": false
   },
   "outputs": [
    {
     "name": "stdout",
     "output_type": "stream",
     "text": [
      "ЦПТ:\n",
      "-1.9599639845400545 -4.614989295482466 1.959963984540054\n"
     ]
    }
   ],
   "source": [
    "p = 0.51\n",
    "r = 7\n",
    "\n",
    "g_1 = sts.norm.ppf(0.025)\n",
    "g_2 = sts.norm.ppf(0.975)\n",
    "\n",
    "s = np.sqrt(n*(p**2)/(r*(1-p)))*(r*(1-p)/p - x_mean)\n",
    "\n",
    "print('ЦПТ:')\n",
    "print(g_1, s, g_2)"
   ]
  },
  {
   "cell_type": "markdown",
   "metadata": {},
   "source": [
    "### 2"
   ]
  },
  {
   "cell_type": "code",
   "execution_count": 11,
   "metadata": {},
   "outputs": [
    {
     "name": "stdout",
     "output_type": "stream",
     "text": [
      "0.7953535133895179 70\n"
     ]
    }
   ],
   "source": [
    "#2\n",
    "\n",
    "arr_4 = data[3]\n",
    "arr_4 = np.array(sorted(arr_4))\n",
    "x_mean = arr_4.mean()\n",
    "X_ep = arr_4\n",
    "n = len(arr_4)\n",
    "\n",
    "arr_4_re = arr_4.reshape((7, 10))\n",
    "n_batches = len(arr_4_re)\n",
    "\n",
    "print(x_mean, n)"
   ]
  },
  {
   "cell_type": "code",
   "execution_count": 12,
   "metadata": {},
   "outputs": [
    {
     "data": {
      "text/plain": [
       "<function matplotlib.pyplot.show(*args, **kw)>"
      ]
     },
     "execution_count": 12,
     "metadata": {},
     "output_type": "execute_result"
    },
    {
     "data": {
      "image/png": "[encoded data removed]",
      "text/plain": [
       "<Figure size 720x576 with 1 Axes>"
      ]
     },
     "metadata": {
      "needs_background": "light"
     },
     "output_type": "display_data"
    }
   ],
   "source": [
    "def dist_func_4(x):\n",
    "    return 0.2*sts.expon.cdf(x, scale = 1/5) + 0.8*sts.expon.cdf(x, scale = 1/1.25)\n",
    "\n",
    "def emp_dist_func(arr):\n",
    "    res = []\n",
    "    res_1 = []\n",
    "    n = len(arr)\n",
    "    for i in range(1,n+1):\n",
    "        res.append(i/n)\n",
    "        res_1.append((i-1)/n)\n",
    "    return res, res_1\n",
    "\n",
    "X = np.linspace(0, 6, 2000)\n",
    "Y = dist_func_4(X)\n",
    "Y_ep, w = emp_dist_func(X_ep)\n",
    "\n",
    "f = plt.figure(figsize = (10, 8))\n",
    "plt.plot(X, Y, label = 'theoretical')\n",
    "plt.plot(X_ep, Y_ep, label = 'empirical')\n",
    "plt.legend()\n",
    "plt.grid()\n",
    "plt.show"
   ]
  },
  {
   "cell_type": "code",
   "execution_count": 13,
   "metadata": {},
   "outputs": [
    {
     "name": "stdout",
     "output_type": "stream",
     "text": [
      "Kolmogorov:\n",
      "1.4883552425864475\n"
     ]
    }
   ],
   "source": [
    "func = dist_func_4\n",
    "\n",
    "def finding_sup(X_ep, emp_dist_func:callable, func:callable):\n",
    "    res = 0\n",
    "    x_ind = 0 \n",
    "    n = len(X_ep)\n",
    "    Y_ep, Y_ep_1 = emp_dist_func(X_ep)\n",
    "    for i in range(n):\n",
    "        m = np.sqrt(n)*abs(Y_ep[i] - func(X_ep[i]))\n",
    "        m_1 = np.sqrt(n)*abs(Y_ep_1[i] - func(X_ep[i]))\n",
    "        if m > res:\n",
    "            res = m\n",
    "            x_ind = X_ep[i]\n",
    "        if m_1 > res:\n",
    "            res = m_1\n",
    "            x_ind = X_ep[i]\n",
    "    #print(x_ind)\n",
    "    print('Kolmogorov:')\n",
    "    print(res)\n",
    "    return res\n",
    "\n",
    "# KOLMOGOROV\n",
    "t = finding_sup(X_ep, emp_dist_func, func)"
   ]
  },
  {
   "cell_type": "code",
   "execution_count": 14,
   "metadata": {},
   "outputs": [
    {
     "name": "stdout",
     "output_type": "stream",
     "text": [
      "ЦПТ:\n",
      "-1.9599639845400545 -1.3383761067279922 1.959963984540054\n"
     ]
    }
   ],
   "source": [
    "# ЦПТ\n",
    "\n",
    "lam = 0.2*1/5 + 0.8/1.25\n",
    "std = np.sqrt(0.2*(1/5**2) + 0.8/(1.25**2))\n",
    "g_1 = sts.norm.ppf(0.025)\n",
    "g_2 = sts.norm.ppf(0.975)\n",
    "\n",
    "s = np.sqrt(n)*(lam - x_mean)/std\n",
    "\n",
    "print('ЦПТ:')\n",
    "print(g_1, s, g_2)"
   ]
  },
  {
   "cell_type": "code",
   "execution_count": 15,
   "metadata": {},
   "outputs": [
    {
     "name": "stdout",
     "output_type": "stream",
     "text": [
      "Chi square:\n",
      "1.237344245791203 9.704425562640543 14.44937533544792\n"
     ]
    }
   ],
   "source": [
    "# Хи-2\n",
    "\n",
    "chi_2 = 0\n",
    "for x in arr_4_re:\n",
    "    tmp = x\n",
    "    l = len(tmp)\n",
    "    p = dist_func_4(tmp[-1]) - dist_func_4(tmp[0])\n",
    "    if n*p < 0.00001:\n",
    "        print(x)\n",
    "    chi_2 += ((l-n*p)**2)/(n*p)\n",
    "g1 = sts.chi2.ppf(0.025, n_batches-1)\n",
    "g2 = sts.chi2.ppf(0.975, n_batches-1)\n",
    "\n",
    "print('Chi square:')\n",
    "print(g1, chi_2, g2)"
   ]
  },
  {
   "cell_type": "markdown",
   "metadata": {},
   "source": [
    "### №3"
   ]
  },
  {
   "cell_type": "code",
   "execution_count": 66,
   "metadata": {},
   "outputs": [
    {
     "name": "stdout",
     "output_type": "stream",
     "text": [
      "0.10684294265994265 70\n"
     ]
    }
   ],
   "source": [
    "#3\n",
    "\n",
    "arr_5 = data[4]\n",
    "arr_5 = np.array(sorted(arr_5))\n",
    "x_mean = arr_5.mean()\n",
    "X_ep = arr_5\n",
    "n = len(arr_5)\n",
    "\n",
    "print(x_mean, n)"
   ]
  },
  {
   "cell_type": "code",
   "execution_count": 67,
   "metadata": {},
   "outputs": [
    {
     "data": {
      "text/plain": [
       "array([-0.39658227, -0.37440483, -0.36947088, -0.35562483, -0.34839158,\n",
       "       -0.34722408, -0.33700254, -0.33495402, -0.31866735, -0.2738418 ,\n",
       "       -0.26450573, -0.26238463, -0.25381862, -0.2216277 , -0.22015455,\n",
       "       -0.20128668, -0.1892993 , -0.15783375, -0.15107679, -0.13688598,\n",
       "       -0.09996721, -0.09301409, -0.08368365,  0.00121702,  0.01029936,\n",
       "        0.02234459,  0.04495189,  0.04612292,  0.04969726,  0.05020527,\n",
       "        0.06531732,  0.08491631,  0.0904994 ,  0.0909554 ,  0.09432966,\n",
       "        0.09689868,  0.13062438,  0.1339582 ,  0.14142864,  0.145347  ,\n",
       "        0.15071645,  0.15852411,  0.18748417,  0.21644081,  0.21771293,\n",
       "        0.24193741,  0.25937089,  0.2890589 ,  0.29259823,  0.30471181,\n",
       "        0.308948  ,  0.3487539 ,  0.38186356,  0.38566951,  0.41119298,\n",
       "        0.44345315,  0.46930631,  0.49856673,  0.50072762,  0.50330709,\n",
       "        0.50588633,  0.52196361,  0.52200163,  0.52648964,  0.53752387,\n",
       "        0.53854819,  0.54957987,  0.55580314,  0.55911882,  0.58433586])"
      ]
     },
     "execution_count": 67,
     "metadata": {},
     "output_type": "execute_result"
    }
   ],
   "source": [
    "arr_5"
   ]
  },
  {
   "cell_type": "code",
   "execution_count": 64,
   "metadata": {
    "scrolled": false
   },
   "outputs": [
    {
     "data": {
      "text/plain": [
       "<function matplotlib.pyplot.show(*args, **kw)>"
      ]
     },
     "execution_count": 64,
     "metadata": {},
     "output_type": "execute_result"
    },
    {
     "data": {
      "image/png": "[encoded data removed]",
      "text/plain": [
       "<Figure size 720x576 with 1 Axes>"
      ]
     },
     "metadata": {
      "needs_background": "light"
     },
     "output_type": "display_data"
    }
   ],
   "source": [
    "def dist_func_5(x, m=0.63):\n",
    "    return 0.5*sts.uniform.cdf(x, loc=0, scale=m) + 0.5*sts.uniform.cdf(x, loc=m-1, scale=0.5)\n",
    "\n",
    "X = np.linspace(-0.5, 1, 2000)\n",
    "Y = dist_func_5(X, 0.63)\n",
    "Y_ep, w = emp_dist_func(X_ep)\n",
    "\n",
    "f = plt.figure(figsize = (10, 8))\n",
    "plt.plot(X, Y, label = 'theoretical')\n",
    "plt.plot(X_ep, Y_ep, label = 'empirical')\n",
    "plt.legend()\n",
    "plt.grid()\n",
    "plt.show"
   ]
  },
  {
   "cell_type": "code",
   "execution_count": 65,
   "metadata": {},
   "outputs": [
    {
     "name": "stdout",
     "output_type": "stream",
     "text": [
      "Kolmogorov:\n",
      "0.7478438055089157\n"
     ]
    }
   ],
   "source": [
    "# Kolmogorov\n",
    "\n",
    "func = dist_func_5\n",
    "t = finding_sup(X_ep, emp_dist_func, func)"
   ]
  },
  {
   "cell_type": "code",
   "execution_count": 105,
   "metadata": {},
   "outputs": [
    {
     "data": {
      "text/plain": [
       "array([[-0.12351227, -0.02351227],\n",
       "       [-0.00192483,  0.09807517],\n",
       "       [-0.13886305, -0.03886305],\n",
       "       [ 0.06646085,  0.16646085],\n",
       "       [ 0.06264679,  0.16264679],\n",
       "       [-0.17073919, -0.07073919],\n",
       "       [ 0.03771785,  0.13771785],\n",
       "       [ 0.07421673,  0.17421673],\n",
       "       [-0.14329946, -0.04329946],\n",
       "       [-0.02959281,  0.07040719],\n",
       "       [-0.15155498, -0.05155498],\n",
       "       [ 0.07808254,  0.17808254],\n",
       "       [-0.19875831, -0.09875831],\n",
       "       [-0.17063524, -0.07063524],\n",
       "       [-0.10686388, -0.00686388],\n",
       "       [ 0.01942626,  0.11942626],\n",
       "       [-0.17659145, -0.07659145],\n",
       "       [-0.08495791,  0.01504209],\n",
       "       [-0.03854464,  0.06145536],\n",
       "       [-0.00593265,  0.09406735],\n",
       "       [ 0.0232193 ,  0.1232193 ],\n",
       "       [-0.03275339,  0.06724661],\n",
       "       [-0.19799247, -0.09799247],\n",
       "       [-0.0127579 ,  0.0872421 ],\n",
       "       [-0.19638256, -0.09638256],\n",
       "       [-0.11694235, -0.01694235],\n",
       "       [-0.04713337,  0.05286663],\n",
       "       [-0.10904408, -0.00904408],\n",
       "       [ 0.06957942,  0.16957942],\n",
       "       [ 0.03092949,  0.13092949],\n",
       "       [ 0.08400164,  0.18400164],\n",
       "       [ 0.09463599,  0.19463599],\n",
       "       [ 0.05333317,  0.15333317],\n",
       "       [-0.12825135, -0.02825135],\n",
       "       [-0.17311035, -0.07311035],\n",
       "       [-0.15965408, -0.05965408],\n",
       "       [-0.13865174, -0.03865174],\n",
       "       [ 0.01057005,  0.11057005],\n",
       "       [-0.13029149, -0.03029149],\n",
       "       [-0.1855645 , -0.0855645 ],\n",
       "       [ 0.05542835,  0.15542835],\n",
       "       [-0.0103095 ,  0.0896905 ],\n",
       "       [-0.05946936,  0.04053064],\n",
       "       [-0.17702084, -0.07702084],\n",
       "       [ 0.03694645,  0.13694645],\n",
       "       [ 0.08466233,  0.18466233],\n",
       "       [-0.13066854, -0.03066854],\n",
       "       [-0.19798801, -0.09798801],\n",
       "       [-0.1417155 , -0.0417155 ],\n",
       "       [-0.14460196, -0.04460196]])"
      ]
     },
     "execution_count": 105,
     "metadata": {},
     "output_type": "execute_result"
    }
   ],
   "source": [
    "gamma = sts.uniform.rvs(-0.2, 0.3, size = 50)\n",
    "\n",
    "eta = []\n",
    "for x in gamma:\n",
    "    eta.append(x+0.1)\n",
    "    \n",
    "eta = np.array(list(zip(gamma, eta)))\n",
    "eta"
   ]
  },
  {
   "cell_type": "code",
   "execution_count": 106,
   "metadata": {},
   "outputs": [],
   "source": [
    "def experiment(interval_arr, arr_5):\n",
    "    num_exp = []\n",
    "    for y in interval_arr:\n",
    "        a = y[0]\n",
    "        b = y[1]\n",
    "        n = 0\n",
    "        for x in arr_5:\n",
    "            #print(x, a, b)\n",
    "            if (x > a) and (x < b):\n",
    "                n += 1\n",
    "        num_exp.append(n)\n",
    "    return np.array(num_exp)\n",
    "num_exp = experiment(eta, arr_5)"
   ]
  },
  {
   "cell_type": "code",
   "execution_count": 107,
   "metadata": {},
   "outputs": [
    {
     "data": {
      "text/plain": [
       "<function matplotlib.pyplot.show(*args, **kw)>"
      ]
     },
     "execution_count": 107,
     "metadata": {},
     "output_type": "execute_result"
    },
    {
     "data": {
      "image/png": "[encoded data removed]",
      "text/plain": [
       "<Figure size 720x576 with 1 Axes>"
      ]
     },
     "metadata": {
      "needs_background": "light"
     },
     "output_type": "display_data"
    }
   ],
   "source": [
    "mean = num_exp.mean()\n",
    "std = num_exp.std()\n",
    "m = len(num_exp)\n",
    "\n",
    "eta_trans = []\n",
    "\n",
    "for x in num_exp:\n",
    "    res = (x - mean)/std\n",
    "    eta_trans.append(res)\n",
    "    \n",
    "f = plt.figure(figsize = (10, 8))\n",
    "plt.hist(eta_trans, bins=15, density=False, label='Experiment')\n",
    "plt.legend()\n",
    "plt.grid()\n",
    "plt.show"
   ]
  },
  {
   "cell_type": "code",
   "execution_count": 108,
   "metadata": {},
   "outputs": [
    {
     "data": {
      "text/plain": [
       "(0.8797732591629028, 0.00011013195035047829)"
      ]
     },
     "execution_count": 108,
     "metadata": {},
     "output_type": "execute_result"
    }
   ],
   "source": [
    "# Shapiro-Wilk test\n",
    "\n",
    "sts.shapiro(eta_trans)"
   ]
  },
  {
   "cell_type": "markdown",
   "metadata": {},
   "source": [
    "* Таким образом критерий $H_0$ отвергается $\\rightarrow$ такая вероятность зависит не только от $l$"
   ]
  },
  {
   "cell_type": "code",
   "execution_count": null,
   "metadata": {},
   "outputs": [],
   "source": []
  }
 ],
 "metadata": {
  "kernelspec": {
   "display_name": "Python 3",
   "language": "python",
   "name": "python3"
  },
  "language_info": {
   "codemirror_mode": {
    "name": "ipython",
    "version": 3
   },
   "file_extension": ".py",
   "mimetype": "text/x-python",
   "name": "python",
   "nbconvert_exporter": "python",
   "pygments_lexer": "ipython3",
   "version": "3.7.3"
  }
 },
 "nbformat": 4,
 "nbformat_minor": 2
}
