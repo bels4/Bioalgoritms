{
 "cells": [
  {
   "cell_type": "code",
   "execution_count": 1,
   "metadata": {},
   "outputs": [],
   "source": [
    "import scipy.stats as sts\n",
    "import scipy.special as scp\n",
    "import numpy as np\n",
    "import matplotlib.pyplot as plt"
   ]
  },
  {
   "cell_type": "code",
   "execution_count": 2,
   "metadata": {},
   "outputs": [
    {
     "data": {
      "text/plain": [
       "['Ex3a',\n",
       " 'Ex3b',\n",
       " 'Ex3c',\n",
       " 'Ex3d',\n",
       " 'Ex4a',\n",
       " 'Ex4b',\n",
       " 'Ex4c',\n",
       " 'Ex5',\n",
       " 'Ex6',\n",
       " 'Ex7',\n",
       " 'Ex8',\n",
       " 'Ex9\\n']"
      ]
     },
     "execution_count": 2,
     "metadata": {},
     "output_type": "execute_result"
    }
   ],
   "source": [
    "f = open('IB_statistics_data_hw5.txt', 'r')\n",
    "line_1 = f.readline()\n",
    "list_ex = line_1.split(' ')\n",
    "list_ex"
   ]
  },
  {
   "cell_type": "code",
   "execution_count": 3,
   "metadata": {},
   "outputs": [
    {
     "data": {
      "text/plain": [
       "[[], [], [], [], [], [], [], [], [], [], [], []]"
      ]
     },
     "execution_count": 3,
     "metadata": {},
     "output_type": "execute_result"
    }
   ],
   "source": [
    "data = [[] for x in range(len(list_ex))]\n",
    "data"
   ]
  },
  {
   "cell_type": "code",
   "execution_count": 4,
   "metadata": {},
   "outputs": [],
   "source": [
    "for line in f:\n",
    "    res = line.split(' ')\n",
    "    for i in range(len(res)):\n",
    "        data[i].append(res[i])"
   ]
  },
  {
   "cell_type": "code",
   "execution_count": 5,
   "metadata": {},
   "outputs": [],
   "source": [
    "for i in range(len(data)):\n",
    "    for j in range(len(data[0])):\n",
    "        data[i][j] = float(data[i][j])"
   ]
  },
  {
   "cell_type": "code",
   "execution_count": 6,
   "metadata": {},
   "outputs": [],
   "source": [
    "#Ex_3a\n",
    "arr_1 = data[0]\n",
    "arr_1 = np.array(arr_1)\n",
    "\n",
    "x_mean = arr_1.mean()\n",
    "n = len(arr_1)\n",
    "p = 0.8\n",
    "\n",
    "print(x_mean, n)"
   ]
  },
  {
   "cell_type": "code",
   "execution_count": 8,
   "metadata": {},
   "outputs": [
    {
     "name": "stdout",
     "output_type": "stream",
     "text": [
      "-1.9599639845400545 1.959963984540054 3.4521089314745503\n"
     ]
    }
   ],
   "source": [
    "g_1 = sts.norm.ppf(0.025)\n",
    "g_2 = sts.norm.ppf(0.975)\n",
    "\n",
    "s = np.sqrt(n/(p*(1-p)))*(p - x_mean)\n",
    "print(g_1, g_2, s)"
   ]
  },
  {
   "cell_type": "code",
   "execution_count": 59,
   "metadata": {},
   "outputs": [],
   "source": [
    "#Ex_3b\n",
    "arr_2 = data[1]\n",
    "arr_2 = np.array(arr_2)"
   ]
  },
  {
   "cell_type": "code",
   "execution_count": 60,
   "metadata": {},
   "outputs": [
    {
     "data": {
      "text/plain": [
       "38.0"
      ]
     },
     "execution_count": 60,
     "metadata": {},
     "output_type": "execute_result"
    }
   ],
   "source": [
    "max(arr_2)"
   ]
  },
  {
   "cell_type": "code",
   "execution_count": 61,
   "metadata": {},
   "outputs": [
    {
     "name": "stdout",
     "output_type": "stream",
     "text": [
      "22.065420560747665 214\n"
     ]
    }
   ],
   "source": [
    "x_mean = arr_2.mean()\n",
    "n = len(arr_2)\n",
    "n_1 = 37\n",
    "p = 0.6\n",
    "\n",
    "print(x_mean, n)"
   ]
  },
  {
   "cell_type": "code",
   "execution_count": 11,
   "metadata": {},
   "outputs": [
    {
     "name": "stdout",
     "output_type": "stream",
     "text": [
      "-1.9599639845400545 1.959963984540054 0.15855880349319149\n"
     ]
    }
   ],
   "source": [
    "g_1 = sts.norm.ppf(0.025)\n",
    "g_2 = sts.norm.ppf(0.975)\n",
    "\n",
    "s = np.sqrt(n/n_1*(p*(1-p)))*(n_1*p - x_mean)\n",
    "print(g_1, g_2, s)"
   ]
  },
  {
   "cell_type": "code",
   "execution_count": 62,
   "metadata": {},
   "outputs": [],
   "source": [
    "#Ex_3с\n",
    "arr_3 = data[2]\n",
    "arr_3 = np.array(arr_3)"
   ]
  },
  {
   "cell_type": "code",
   "execution_count": 63,
   "metadata": {},
   "outputs": [
    {
     "name": "stdout",
     "output_type": "stream",
     "text": [
      "1.0560747663551402 214\n"
     ]
    }
   ],
   "source": [
    "x_mean = arr_3.mean()\n",
    "n = len(arr_3)\n",
    "p = 0.7\n",
    "\n",
    "print(x_mean, n)"
   ]
  },
  {
   "cell_type": "code",
   "execution_count": 64,
   "metadata": {
    "scrolled": true
   },
   "outputs": [
    {
     "name": "stdout",
     "output_type": "stream",
     "text": [
      "-1.9599639845400545 1.959963984540054 -11.731683543033967 6.964127039375484\n"
     ]
    }
   ],
   "source": [
    "g_1 = sts.norm.ppf(0.025)\n",
    "g_2 = sts.norm.ppf(0.975)\n",
    "\n",
    "s = np.sqrt(n*(p**2)/(1-p))*((1-p)/p - x_mean)\n",
    "s_1 = np.sqrt(n*(p**2)/(1-p))*(1/p - x_mean)\n",
    "print(g_1, g_2, s, s_1)"
   ]
  },
  {
   "cell_type": "code",
   "execution_count": 15,
   "metadata": {},
   "outputs": [
    {
     "data": {
      "text/plain": [
       "array([ 1.28035355,  1.5746408 , -1.72282202,  0.60430708, -1.09766372,\n",
       "        0.47819583,  0.2358903 ,  0.58266367, -0.24838915, -0.87069682,\n",
       "       -1.00793094, -2.13552015, -0.36343655, -0.03334123,  2.67027951,\n",
       "        0.13712736,  1.20559759,  0.58220447, -3.63919671, -0.81046162])"
      ]
     },
     "execution_count": 15,
     "metadata": {},
     "output_type": "execute_result"
    }
   ],
   "source": [
    "#Ex_3d\n",
    "arr_4 = data[3]\n",
    "arr_4 = np.array(arr_4)\n",
    "arr_4[0:20]"
   ]
  },
  {
   "cell_type": "code",
   "execution_count": 58,
   "metadata": {},
   "outputs": [
    {
     "name": "stdout",
     "output_type": "stream",
     "text": [
      "0.3537916515825641 1.6304850040779968 214\n"
     ]
    }
   ],
   "source": [
    "x_mean = arr_4.mean()\n",
    "std = arr_4.std()\n",
    "n = len(arr_4)\n",
    "\n",
    "print(x_mean, std, n)"
   ]
  },
  {
   "cell_type": "code",
   "execution_count": 17,
   "metadata": {
    "scrolled": true
   },
   "outputs": [
    {
     "name": "stdout",
     "output_type": "stream",
     "text": [
      "-1.9599639845400545 1.959963984540054 5.17552567418199\n"
     ]
    }
   ],
   "source": [
    "g_1 = sts.norm.ppf(0.025)\n",
    "g_2 = sts.norm.ppf(0.975)\n",
    "\n",
    "s = np.sqrt(n)*(x_mean)\n",
    "print(g_1, g_2, s)"
   ]
  },
  {
   "cell_type": "code",
   "execution_count": 18,
   "metadata": {},
   "outputs": [
    {
     "data": {
      "text/plain": [
       "array([28.12790743, 12.01563612, 29.84643   , 35.93539767, 19.25457581,\n",
       "        8.80276787, 12.1387258 , 37.15076624,  0.86026067,  3.93318146,\n",
       "       23.35120743, 21.42077085, 22.35671835, 30.87310547, 10.62249649,\n",
       "       11.97033241, 29.97649172,  0.35555374, 19.3418618 , 25.96124882])"
      ]
     },
     "execution_count": 18,
     "metadata": {},
     "output_type": "execute_result"
    }
   ],
   "source": [
    "#Ex_4a\n",
    "arr_5 = data[4]\n",
    "arr_5 = np.array(arr_5)\n",
    "arr_5[0:20]"
   ]
  },
  {
   "cell_type": "code",
   "execution_count": 19,
   "metadata": {},
   "outputs": [
    {
     "name": "stdout",
     "output_type": "stream",
     "text": [
      "19.38286165045487 214\n"
     ]
    }
   ],
   "source": [
    "x_mean = arr_5.mean()\n",
    "n = len(arr_5)\n",
    "X_ep = sorted(arr_5)\n",
    "\n",
    "print(x_mean, n)"
   ]
  },
  {
   "cell_type": "code",
   "execution_count": 20,
   "metadata": {},
   "outputs": [
    {
     "data": {
      "text/plain": [
       "<function matplotlib.pyplot.show(*args, **kw)>"
      ]
     },
     "execution_count": 20,
     "metadata": {},
     "output_type": "execute_result"
    },
    {
     "data": {
      "image/png": "[encoded data removed]",
      "text/plain": [
       "<Figure size 720x576 with 1 Axes>"
      ]
     },
     "metadata": {
      "needs_background": "light"
     },
     "output_type": "display_data"
    }
   ],
   "source": [
    "def dist_func_1(x):\n",
    "    return sts.uniform.cdf(x, 0, 42)\n",
    "\n",
    "def emp_dist_func(arr):\n",
    "    res = []\n",
    "    n = len(arr)\n",
    "    for i in range(1,n+1):\n",
    "        res.append(i/n)\n",
    "    return res\n",
    "\n",
    "X = np.linspace(0, 42, 2000)\n",
    "Y = dist_func_1(X)\n",
    "Y_ep = emp_dist_func(X_ep)\n",
    "\n",
    "f = plt.figure(figsize = (10, 8))\n",
    "plt.plot(X, Y, label = 'theoretical')\n",
    "plt.plot(X_ep, Y_ep, label = 'empirical')\n",
    "plt.legend()\n",
    "plt.grid()\n",
    "plt.show"
   ]
  },
  {
   "cell_type": "code",
   "execution_count": 21,
   "metadata": {
    "scrolled": true
   },
   "outputs": [
    {
     "name": "stdout",
     "output_type": "stream",
     "text": [
      "24.1265872473596\n"
     ]
    },
    {
     "data": {
      "text/plain": [
       "1.166832885446394"
      ]
     },
     "execution_count": 21,
     "metadata": {},
     "output_type": "execute_result"
    }
   ],
   "source": [
    "func = dist_func_1\n",
    "\n",
    "def finding_sup(X_ep, emp_dist_func:callable, func:callable):\n",
    "    res = 0\n",
    "    x_ind = 0 \n",
    "    n = len(X_ep)\n",
    "    Y_ep = emp_dist_func(X_ep)\n",
    "    for i in range(n):\n",
    "        m = np.sqrt(n)*abs(Y_ep[i] - func(X_ep[i]))\n",
    "        if m > res:\n",
    "            res = m\n",
    "            x_ind = X_ep[i]\n",
    "    print(x_ind)\n",
    "    return res\n",
    "\n",
    "t = finding_sup(X_ep, emp_dist_func, func)\n",
    "t"
   ]
  },
  {
   "cell_type": "code",
   "execution_count": 22,
   "metadata": {},
   "outputs": [
    {
     "data": {
      "text/plain": [
       "array([0.09009196, 0.09507472, 0.254565  , 0.05962416, 0.06030947,\n",
       "       0.09163989, 0.06321764, 0.6678044 , 0.03275208, 0.15501148,\n",
       "       0.01148507, 1.07630602, 0.27164744, 0.10284019, 0.02355389,\n",
       "       0.16379156, 0.34603526, 0.13370982, 0.02455389, 0.14015027])"
      ]
     },
     "execution_count": 22,
     "metadata": {},
     "output_type": "execute_result"
    }
   ],
   "source": [
    "#Ex_4b\n",
    "arr_6 = data[5]\n",
    "arr_6 = np.array(arr_6)\n",
    "arr_6[0:20]"
   ]
  },
  {
   "cell_type": "code",
   "execution_count": 23,
   "metadata": {},
   "outputs": [
    {
     "name": "stdout",
     "output_type": "stream",
     "text": [
      "0.17908535594275005 214\n"
     ]
    }
   ],
   "source": [
    "x_mean = arr_6.mean()\n",
    "n = len(arr_6)\n",
    "X_ep = sorted(arr_6)\n",
    "\n",
    "print(x_mean, n)"
   ]
  },
  {
   "cell_type": "code",
   "execution_count": 24,
   "metadata": {},
   "outputs": [
    {
     "data": {
      "text/plain": [
       "<function matplotlib.pyplot.show(*args, **kw)>"
      ]
     },
     "execution_count": 24,
     "metadata": {},
     "output_type": "execute_result"
    },
    {
     "data": {
      "image/png": "[encoded data removed]",
      "text/plain": [
       "<Figure size 720x576 with 1 Axes>"
      ]
     },
     "metadata": {
      "needs_background": "light"
     },
     "output_type": "display_data"
    }
   ],
   "source": [
    "def dist_func_2(x):\n",
    "    return sts.expon.cdf(x, scale = 1/7)\n",
    "\n",
    "X = np.linspace(0, 1, 200000)\n",
    "Y = dist_func_2(X)\n",
    "Y_ep = emp_dist_func(X_ep)\n",
    "\n",
    "f = plt.figure(figsize = (10, 8))\n",
    "plt.plot(X, Y, label = 'theoretical')\n",
    "plt.plot(X_ep, Y_ep, label = 'empirical')\n",
    "plt.legend()\n",
    "plt.grid()\n",
    "plt.show"
   ]
  },
  {
   "cell_type": "code",
   "execution_count": 25,
   "metadata": {
    "scrolled": true
   },
   "outputs": [
    {
     "name": "stdout",
     "output_type": "stream",
     "text": [
      "0.132918407202216\n"
     ]
    },
    {
     "data": {
      "text/plain": [
       "1.2032279870242069"
      ]
     },
     "execution_count": 25,
     "metadata": {},
     "output_type": "execute_result"
    }
   ],
   "source": [
    "func = dist_func_2\n",
    "t = finding_sup(X_ep, emp_dist_func, func)\n",
    "t"
   ]
  },
  {
   "cell_type": "code",
   "execution_count": 26,
   "metadata": {},
   "outputs": [
    {
     "data": {
      "text/plain": [
       "array([ 1.28035355,  1.5746408 , -1.72282202,  0.60430708, -1.09766372,\n",
       "        0.47819583,  0.2358903 ,  0.58266367, -0.24838915, -0.87069682,\n",
       "       -1.00793094, -2.13552015, -0.36343655, -0.03334123,  2.67027951,\n",
       "        0.13712736,  1.20559759,  0.58220447, -3.63919671, -0.81046162])"
      ]
     },
     "execution_count": 26,
     "metadata": {},
     "output_type": "execute_result"
    }
   ],
   "source": [
    "#Ex_4c\n",
    "arr_7 = data[6]\n",
    "arr_7 = np.array(arr_7)\n",
    "arr_7[0:20]"
   ]
  },
  {
   "cell_type": "code",
   "execution_count": 27,
   "metadata": {},
   "outputs": [
    {
     "name": "stdout",
     "output_type": "stream",
     "text": [
      "0.3537916515825641 214\n"
     ]
    }
   ],
   "source": [
    "x_mean = arr_7.mean()\n",
    "n = len(arr_7)\n",
    "X_ep = sorted(arr_7)\n",
    "\n",
    "print(x_mean, n)"
   ]
  },
  {
   "cell_type": "code",
   "execution_count": 28,
   "metadata": {},
   "outputs": [
    {
     "data": {
      "text/plain": [
       "<function matplotlib.pyplot.show(*args, **kw)>"
      ]
     },
     "execution_count": 28,
     "metadata": {},
     "output_type": "execute_result"
    },
    {
     "data": {
      "image/png": "[encoded data removed]",
      "text/plain": [
       "<Figure size 720x576 with 1 Axes>"
      ]
     },
     "metadata": {
      "needs_background": "light"
     },
     "output_type": "display_data"
    }
   ],
   "source": [
    "def dist_func_3(x):\n",
    "    return sts.norm.cdf(x)\n",
    "\n",
    "X = np.linspace(-4.5, 4.5, 200000)\n",
    "Y = dist_func_3(X)\n",
    "Y_ep = emp_dist_func(X_ep)\n",
    "\n",
    "f = plt.figure(figsize = (10, 8))\n",
    "plt.plot(X, Y, label = 'theoretical')\n",
    "plt.plot(X_ep, Y_ep, label = 'empirical')\n",
    "plt.title('NORM')\n",
    "plt.legend()\n",
    "plt.grid()\n",
    "plt.show"
   ]
  },
  {
   "cell_type": "code",
   "execution_count": 29,
   "metadata": {},
   "outputs": [
    {
     "name": "stdout",
     "output_type": "stream",
     "text": [
      "1.47719681238929\n"
     ]
    },
    {
     "data": {
      "text/plain": [
       "2.73846921630449"
      ]
     },
     "execution_count": 29,
     "metadata": {},
     "output_type": "execute_result"
    }
   ],
   "source": [
    "func = dist_func_3\n",
    "\n",
    "t = finding_sup(X_ep, emp_dist_func, func)\n",
    "t"
   ]
  },
  {
   "cell_type": "code",
   "execution_count": 46,
   "metadata": {},
   "outputs": [
    {
     "data": {
      "text/plain": [
       "array([0.17076797, 0.52882856, 0.36197753, 0.21586667, 0.        ,\n",
       "       0.        , 0.        , 0.34009782, 0.        , 0.50949874,\n",
       "       0.        , 0.        , 0.        , 0.16285358, 0.47515378,\n",
       "       0.09228161, 0.        , 0.        , 0.07812175, 0.        ])"
      ]
     },
     "execution_count": 46,
     "metadata": {},
     "output_type": "execute_result"
    }
   ],
   "source": [
    "#Ex_5\n",
    "arr_8 = data[7]\n",
    "arr_8 = np.array(arr_8)\n",
    "arr_8[0:20]"
   ]
  },
  {
   "cell_type": "code",
   "execution_count": 47,
   "metadata": {},
   "outputs": [
    {
     "data": {
      "text/plain": [
       "127"
      ]
     },
     "execution_count": 47,
     "metadata": {},
     "output_type": "execute_result"
    }
   ],
   "source": [
    "arr = sorted(list(arr_8))\n",
    "arr[::-1].index(0.0)"
   ]
  },
  {
   "cell_type": "code",
   "execution_count": 48,
   "metadata": {},
   "outputs": [],
   "source": [
    "#arr[86:]"
   ]
  },
  {
   "cell_type": "code",
   "execution_count": 49,
   "metadata": {},
   "outputs": [
    {
     "name": "stdout",
     "output_type": "stream",
     "text": [
      "0.18836117535209393 214\n"
     ]
    }
   ],
   "source": [
    "x_mean = arr_8.mean()\n",
    "n = len(arr_8)\n",
    "X_ep = sorted(arr[86:])\n",
    "\n",
    "print(x_mean, n)"
   ]
  },
  {
   "cell_type": "code",
   "execution_count": 51,
   "metadata": {},
   "outputs": [
    {
     "data": {
      "text/plain": [
       "<function matplotlib.pyplot.show(*args, **kw)>"
      ]
     },
     "execution_count": 51,
     "metadata": {},
     "output_type": "execute_result"
    },
    {
     "data": {
      "image/png": "[encoded data removed]",
      "text/plain": [
       "<Figure size 720x576 with 1 Axes>"
      ]
     },
     "metadata": {
      "needs_background": "light"
     },
     "output_type": "display_data"
    }
   ],
   "source": [
    "def dist_func_5(x):\n",
    "    if (x < 0):\n",
    "        return 0\n",
    "    else:\n",
    "        if x <= 0.5:\n",
    "            return x+0.5\n",
    "        else:\n",
    "            return 1\n",
    "\n",
    "def emp_dist_func_0(arr):\n",
    "    res = []\n",
    "    n = 214\n",
    "    res.append(87/n)\n",
    "    for i in range(88, n+1):\n",
    "        res.append(i/n)\n",
    "    return res\n",
    "\n",
    "X = np.linspace(-.5, 1, 2000)\n",
    "Y = []\n",
    "for x in X:\n",
    "    Y.append(dist_func_5(x))\n",
    "Y_ep = emp_dist_func_0(X_ep)\n",
    "\n",
    "f = plt.figure(figsize = (10, 8))\n",
    "plt.plot(X, Y, label = 'theoretical')\n",
    "plt.plot(X_ep, Y_ep, label = 'empirical')\n",
    "plt.title('NORM')\n",
    "plt.legend()\n",
    "plt.grid()\n",
    "plt.show"
   ]
  },
  {
   "cell_type": "code",
   "execution_count": 52,
   "metadata": {},
   "outputs": [
    {
     "name": "stdout",
     "output_type": "stream",
     "text": [
      "0.304503802047111\n"
     ]
    },
    {
     "data": {
      "text/plain": [
       "1.647562164569826"
      ]
     },
     "execution_count": 52,
     "metadata": {},
     "output_type": "execute_result"
    }
   ],
   "source": [
    "func = dist_func_5\n",
    "\n",
    "t = finding_sup(X_ep, emp_dist_func_0, func)\n",
    "t"
   ]
  },
  {
   "cell_type": "code",
   "execution_count": 37,
   "metadata": {},
   "outputs": [
    {
     "data": {
      "text/plain": [
       "5.94719756511457"
      ]
     },
     "execution_count": 37,
     "metadata": {},
     "output_type": "execute_result"
    }
   ],
   "source": [
    "np.sqrt(214)*(Y_ep[0]-dist_func_5(0))"
   ]
  },
  {
   "cell_type": "code",
   "execution_count": 38,
   "metadata": {
    "scrolled": true
   },
   "outputs": [
    {
     "data": {
      "text/plain": [
       "array([0.00314924, 0.23422278, 0.70937691, 0.55028814, 0.1607301 ,\n",
       "       0.6069181 , 0.27051868, 0.40801302, 0.0071923 , 0.31327832,\n",
       "       0.2949676 , 0.01794373, 0.61835034, 0.22181289, 0.64150695,\n",
       "       0.04085287, 0.6812748 , 0.21516833, 0.18103907, 0.55361494])"
      ]
     },
     "execution_count": 38,
     "metadata": {},
     "output_type": "execute_result"
    }
   ],
   "source": [
    "#Ex_6\n",
    "arr_9 = data[8]\n",
    "arr_9 = np.array(arr_9)\n",
    "arr_9[0:20]"
   ]
  },
  {
   "cell_type": "code",
   "execution_count": 39,
   "metadata": {},
   "outputs": [
    {
     "name": "stdout",
     "output_type": "stream",
     "text": [
      "0.30966600220537294 214\n"
     ]
    }
   ],
   "source": [
    "x_mean = arr_9.mean()\n",
    "n = len(arr_9)\n",
    "X_ep = sorted(arr_9)\n",
    "\n",
    "print(x_mean, n)"
   ]
  },
  {
   "cell_type": "code",
   "execution_count": 40,
   "metadata": {},
   "outputs": [
    {
     "data": {
      "text/plain": [
       "<function matplotlib.pyplot.show(*args, **kw)>"
      ]
     },
     "execution_count": 40,
     "metadata": {},
     "output_type": "execute_result"
    },
    {
     "data": {
      "image/png": "[encoded data removed]",
      "text/plain": [
       "<Figure size 720x576 with 1 Axes>"
      ]
     },
     "metadata": {
      "needs_background": "light"
     },
     "output_type": "display_data"
    }
   ],
   "source": [
    "def dist_func_6(x):\n",
    "    eps = 0.000001\n",
    "    if (x < eps):\n",
    "        return 0\n",
    "    else:\n",
    "        if x <= 0.8 and x > 0.2:\n",
    "            return 1*x+0.2\n",
    "        elif x <= 0.2:\n",
    "            return 2*x\n",
    "\n",
    "X = np.linspace(0, 1, 2000)\n",
    "Y = []\n",
    "for x in X:\n",
    "    Y.append(dist_func_6(x))\n",
    "Y_ep = emp_dist_func(X_ep)\n",
    "\n",
    "f = plt.figure(figsize = (10, 8))\n",
    "plt.plot(X, Y, label = 'theoretical')\n",
    "plt.plot(X_ep, Y_ep, label = 'empirical')\n",
    "plt.title('NORM')\n",
    "plt.legend()\n",
    "plt.grid()\n",
    "plt.show"
   ]
  },
  {
   "cell_type": "code",
   "execution_count": 41,
   "metadata": {
    "scrolled": true
   },
   "outputs": [
    {
     "name": "stdout",
     "output_type": "stream",
     "text": [
      "0.322976859286427\n"
     ]
    },
    {
     "data": {
      "text/plain": [
       "1.5095595291404427"
      ]
     },
     "execution_count": 41,
     "metadata": {},
     "output_type": "execute_result"
    }
   ],
   "source": [
    "func = dist_func_6\n",
    "\n",
    "t = finding_sup(X_ep, emp_dist_func, func)\n",
    "t"
   ]
  },
  {
   "cell_type": "code",
   "execution_count": 43,
   "metadata": {},
   "outputs": [
    {
     "data": {
      "text/plain": [
       "-2.131697072315232"
      ]
     },
     "execution_count": 43,
     "metadata": {},
     "output_type": "execute_result"
    }
   ],
   "source": [
    "p = 0.2\n",
    "q = 0.8\n",
    "m = p**2/2 + q**2/2\n",
    "d = 0.2**3/12 + q**3/12\n",
    "\n",
    "t_2 = np.sqrt(n/d)*(x_mean - m)\n",
    "t_2"
   ]
  },
  {
   "cell_type": "code",
   "execution_count": 42,
   "metadata": {},
   "outputs": [
    {
     "data": {
      "text/plain": [
       "0.8"
      ]
     },
     "execution_count": 42,
     "metadata": {},
     "output_type": "execute_result"
    }
   ],
   "source": []
  },
  {
   "cell_type": "code",
   "execution_count": 53,
   "metadata": {
    "scrolled": true
   },
   "outputs": [
    {
     "data": {
      "text/plain": [
       "array([0.        , 0.        , 0.        , 1.        , 0.        ,\n",
       "       0.47364387, 0.3880235 , 1.        , 0.        , 0.50843552,\n",
       "       0.84479959, 0.        , 1.        , 0.74547701, 0.87349372,\n",
       "       0.67320591, 0.59422666, 1.        , 0.        , 0.03349377,\n",
       "       0.        , 0.        , 1.        , 1.        , 0.33175624,\n",
       "       1.        , 1.        , 1.        , 0.177152  , 1.        ,\n",
       "       1.        , 1.        , 0.9096042 , 1.        , 0.        ,\n",
       "       1.        , 0.        , 1.        , 1.        , 0.        ,\n",
       "       1.        , 1.        , 0.        , 1.        , 1.        ,\n",
       "       1.        , 0.        , 0.69842306, 0.        , 1.        ,\n",
       "       0.2030104 , 0.34712201, 0.17534778, 0.28024386, 0.        ,\n",
       "       1.        , 0.        , 1.        , 0.        , 0.90704052,\n",
       "       0.23004106, 0.        , 0.        , 1.        , 0.        ,\n",
       "       0.84786366, 0.87359077, 0.31952656, 0.        , 0.        ,\n",
       "       0.6551203 , 0.        , 0.        , 0.        , 1.        ,\n",
       "       0.        , 0.        , 1.        , 0.        , 0.031782  ,\n",
       "       0.19946679, 0.        , 1.        , 0.35860158, 1.        ,\n",
       "       0.91383344, 1.        , 1.        , 1.        , 0.9325723 ,\n",
       "       0.1346624 , 1.        , 1.        , 1.        , 0.21568611,\n",
       "       0.94027313, 0.85831173, 1.        , 1.        , 0.39860267,\n",
       "       1.        , 1.        , 0.80261038, 0.        , 0.5       ,\n",
       "       1.        , 0.        , 0.13575196, 0.417149  , 0.        ,\n",
       "       0.        , 1.        , 1.        , 0.        , 1.        ,\n",
       "       0.63089825, 0.55754943, 0.5       , 1.        , 0.2199247 ,\n",
       "       1.        , 1.        , 0.62422503, 1.        , 1.        ,\n",
       "       0.        , 0.34497184, 0.        , 1.        , 0.        ,\n",
       "       1.        , 0.        , 1.        , 0.        , 0.70260417,\n",
       "       0.        , 0.        , 0.        , 1.        , 0.15325317,\n",
       "       0.82340021, 0.61788643, 0.        , 0.        , 1.        ,\n",
       "       0.91792756, 0.23107141, 0.        , 1.        , 0.        ,\n",
       "       0.45124212, 0.        , 1.        , 1.        , 0.        ,\n",
       "       0.45125576, 1.        , 1.        , 0.82088664, 1.        ,\n",
       "       0.33014714, 0.5       , 0.        , 0.05037776, 0.2574726 ,\n",
       "       1.        , 0.        , 0.        , 0.49522862, 0.        ,\n",
       "       0.0124264 , 0.52994363, 0.58545641, 0.38838409, 0.31815022,\n",
       "       1.        , 1.        , 0.        , 0.        , 1.        ,\n",
       "       1.        , 0.04867208, 1.        , 1.        , 0.        ,\n",
       "       0.        , 1.        , 0.48246533, 1.        , 0.        ,\n",
       "       1.        , 0.        , 1.        , 0.        , 0.86015035,\n",
       "       0.        , 0.        , 0.        , 0.47917663, 0.        ,\n",
       "       0.        , 0.8132196 , 0.09190841, 0.        , 0.        ,\n",
       "       1.        , 0.        , 0.34377352, 0.71595346, 1.        ,\n",
       "       0.17105673, 0.62706027, 0.90143786, 0.        ])"
      ]
     },
     "execution_count": 53,
     "metadata": {},
     "output_type": "execute_result"
    }
   ],
   "source": [
    "#Ex_7\n",
    "arr_10 = data[9]\n",
    "arr_10 = np.array(arr_10)\n",
    "arr_10"
   ]
  },
  {
   "cell_type": "code",
   "execution_count": 54,
   "metadata": {},
   "outputs": [],
   "source": [
    "arr = sorted(list(arr_10))\n",
    "#arr[68:143]"
   ]
  },
  {
   "cell_type": "code",
   "execution_count": 55,
   "metadata": {},
   "outputs": [
    {
     "name": "stdout",
     "output_type": "stream",
     "text": [
      "0.5045771181559469 214\n"
     ]
    }
   ],
   "source": [
    "x_mean = arr_10.mean()\n",
    "n = len(arr_10)\n",
    "X_ep = np.array(arr[68:143])\n",
    "\n",
    "print(x_mean, n)"
   ]
  },
  {
   "cell_type": "code",
   "execution_count": 56,
   "metadata": {},
   "outputs": [
    {
     "data": {
      "text/plain": [
       "<function matplotlib.pyplot.show(*args, **kw)>"
      ]
     },
     "execution_count": 56,
     "metadata": {},
     "output_type": "execute_result"
    },
    {
     "data": {
      "image/png": "[encoded data removed]",
      "text/plain": [
       "<Figure size 720x576 with 1 Axes>"
      ]
     },
     "metadata": {
      "needs_background": "light"
     },
     "output_type": "display_data"
    }
   ],
   "source": [
    "def dist_func_7(x):\n",
    "    if (x < 0):\n",
    "        return 0\n",
    "    else:\n",
    "        if x < 1:\n",
    "            return 1/3*x+1/3\n",
    "        elif x >= 1:\n",
    "            return 1\n",
    "        \n",
    "def emp_dist_func_1(arr):\n",
    "    res = []\n",
    "    n = 214\n",
    "    res.append((214-145)/n)\n",
    "    for i in range(69, 142):\n",
    "        res.append(i/n)\n",
    "    res.append(1)\n",
    "    return res\n",
    "\n",
    "X = np.linspace(0, 1, 2000)\n",
    "Y = []\n",
    "for x in X:\n",
    "    Y.append(dist_func_7(x))\n",
    "Y_ep = emp_dist_func_1(X_ep)\n",
    "\n",
    "f = plt.figure(figsize = (10, 8))\n",
    "plt.plot(X, Y, label = 'theoretical')\n",
    "plt.plot(X_ep, Y_ep, label = 'empirical')\n",
    "plt.title('NORM')\n",
    "plt.legend()\n",
    "plt.grid()\n",
    "plt.show"
   ]
  },
  {
   "cell_type": "code",
   "execution_count": 57,
   "metadata": {},
   "outputs": [
    {
     "name": "stdout",
     "output_type": "stream",
     "text": [
      "0.134662403259426\n",
      "otvet 0.24035245887911563\n"
     ]
    }
   ],
   "source": [
    "func = dist_func_7\n",
    "\n",
    "t = finding_sup(X_ep, emp_dist_func_1, func)\n",
    "print('otvet:',t)"
   ]
  },
  {
   "cell_type": "code",
   "execution_count": 239,
   "metadata": {
    "scrolled": true
   },
   "outputs": [
    {
     "data": {
      "text/plain": [
       "array([0.94962495, 0.77950007, 0.74415484, 0.85921901, 0.82915684,\n",
       "       0.80959993, 0.72032656, 0.77696866, 0.72667682, 0.93723891,\n",
       "       0.76810866, 0.82348783, 0.83218349, 0.75540393, 0.74252203,\n",
       "       0.91117391, 0.66486008, 0.72983741, 0.88401163, 0.76475719,\n",
       "       0.8101008 , 0.95396331, 0.98560104, 0.99412732, 0.70964768,\n",
       "       0.82646127, 0.74000012, 0.86208972, 0.79642019])"
      ]
     },
     "execution_count": 239,
     "metadata": {},
     "output_type": "execute_result"
    }
   ],
   "source": [
    "#Ex_8\n",
    "arr_11 = data[10]\n",
    "arr_11 = np.array(arr_11)\n",
    "arr_11[0:29]"
   ]
  },
  {
   "cell_type": "code",
   "execution_count": 242,
   "metadata": {},
   "outputs": [
    {
     "name": "stdout",
     "output_type": "stream",
     "text": [
      "0.8311650280070395 214\n"
     ]
    }
   ],
   "source": [
    "x_mean = arr_11.mean()\n",
    "n = len(arr_11)\n",
    "X_ep = sorted(np.array(arr_11))\n",
    "\n",
    "print(x_mean, n)"
   ]
  },
  {
   "cell_type": "code",
   "execution_count": 243,
   "metadata": {},
   "outputs": [
    {
     "data": {
      "text/plain": [
       "<function matplotlib.pyplot.show(*args, **kw)>"
      ]
     },
     "execution_count": 243,
     "metadata": {},
     "output_type": "execute_result"
    },
    {
     "data": {
      "image/png": "[encoded data removed]",
      "text/plain": [
       "<Figure size 720x576 with 1 Axes>"
      ]
     },
     "metadata": {
      "needs_background": "light"
     },
     "output_type": "display_data"
    }
   ],
   "source": [
    "def dist_func_8(x):\n",
    "    if (x < 0):\n",
    "        return 0\n",
    "    else:\n",
    "        if x < 1:\n",
    "            return x**5\n",
    "        elif x >= 1:\n",
    "            return 1        \n",
    "\n",
    "X = np.linspace(0, 1, 2000)\n",
    "Y = []\n",
    "for x in X:\n",
    "    Y.append(dist_func_8(x))\n",
    "Y_ep = emp_dist_func(X_ep)\n",
    "\n",
    "f = plt.figure(figsize = (10, 8))\n",
    "plt.plot(X, Y, label = 'theoretical')\n",
    "plt.plot(X_ep, Y_ep, label = 'empirical')\n",
    "plt.title('NORM')\n",
    "plt.legend()\n",
    "plt.grid()\n",
    "plt.show"
   ]
  },
  {
   "cell_type": "code",
   "execution_count": 244,
   "metadata": {
    "scrolled": true
   },
   "outputs": [
    {
     "name": "stdout",
     "output_type": "stream",
     "text": [
      "0.866380566265434\n"
     ]
    },
    {
     "data": {
      "text/plain": [
       "0.8570973435506746"
      ]
     },
     "execution_count": 244,
     "metadata": {},
     "output_type": "execute_result"
    }
   ],
   "source": [
    "func = dist_func_8\n",
    "\n",
    "t = finding_sup(X_ep, emp_dist_func, func)\n",
    "t"
   ]
  },
  {
   "cell_type": "code",
   "execution_count": 100,
   "metadata": {
    "scrolled": true
   },
   "outputs": [
    {
     "data": {
      "text/plain": [
       "array([ 1.65157561, -1.0530453 ,  0.56345673,  0.55627257,  1.31950614,\n",
       "        1.71913091, -0.02003553, -0.04074179, -1.1483296 , -0.14170007,\n",
       "       -2.09585644, -1.01805549,  1.09641828,  0.25356734, -0.78651379,\n",
       "       -1.09285305, -0.71622626, -1.54384131, -0.90356093,  1.10526671,\n",
       "       -0.24024235, -0.68780959, -1.22633966, -1.72620243,  0.69188196,\n",
       "       -0.10557589,  2.21140602, -2.85079336,  0.10951915])"
      ]
     },
     "execution_count": 100,
     "metadata": {},
     "output_type": "execute_result"
    }
   ],
   "source": [
    "#Ex_9\n",
    "arr_12 = data[11]\n",
    "arr_12 = np.array(arr_12)\n",
    "arr_12[0:29]"
   ]
  },
  {
   "cell_type": "code",
   "execution_count": 101,
   "metadata": {},
   "outputs": [
    {
     "name": "stdout",
     "output_type": "stream",
     "text": [
      "0.11649979485363375 214\n"
     ]
    }
   ],
   "source": [
    "x_mean = arr_12.mean()\n",
    "n = len(arr_12)\n",
    "X_ep = sorted(np.array(arr_12))\n",
    "\n",
    "print(x_mean, n)"
   ]
  },
  {
   "cell_type": "code",
   "execution_count": 110,
   "metadata": {},
   "outputs": [
    {
     "data": {
      "text/plain": [
       "<function matplotlib.pyplot.show(*args, **kw)>"
      ]
     },
     "execution_count": 110,
     "metadata": {},
     "output_type": "execute_result"
    },
    {
     "data": {
      "image/png": "[encoded data removed]",
      "text/plain": [
       "<Figure size 720x576 with 1 Axes>"
      ]
     },
     "metadata": {
      "needs_background": "light"
     },
     "output_type": "display_data"
    }
   ],
   "source": [
    "def dist_func_9(x):\n",
    "    tmp = sts.bernoulli.rvs(0.5, size = 1)[0]\n",
    "    if tmp == 1:\n",
    "        return sts.norm.cdf(x, -1,1)\n",
    "    else:\n",
    "        return sts.norm.cdf(x, 1,1)\n",
    "\n",
    "X = np.linspace(-4, 4, 20000)\n",
    "Y = []\n",
    "for x in X:\n",
    "    Y.append(dist_func_9(x))\n",
    "Y_ep = emp_dist_func(X_ep)\n",
    "\n",
    "f = plt.figure(figsize = (10, 8))\n",
    "plt.plot(X, Y, label = 'theoretical')\n",
    "plt.plot(X_ep, Y_ep, label = 'empirical')\n",
    "plt.title('NORM')\n",
    "plt.legend()\n",
    "plt.grid()\n",
    "plt.show"
   ]
  },
  {
   "cell_type": "code",
   "execution_count": 105,
   "metadata": {},
   "outputs": [
    {
     "ename": "TypeError",
     "evalue": "unsupported operand type(s) for -: 'float' and 'NoneType'",
     "output_type": "error",
     "traceback": [
      "\u001b[1;31m---------------------------------------------------------------------------\u001b[0m",
      "\u001b[1;31mTypeError\u001b[0m                                 Traceback (most recent call last)",
      "\u001b[1;32m<ipython-input-105-9a2d479b8111>\u001b[0m in \u001b[0;36m<module>\u001b[1;34m\u001b[0m\n\u001b[0;32m      1\u001b[0m \u001b[0mfunc\u001b[0m \u001b[1;33m=\u001b[0m \u001b[0mdist_func_9\u001b[0m\u001b[1;33m\u001b[0m\u001b[1;33m\u001b[0m\u001b[0m\n\u001b[0;32m      2\u001b[0m \u001b[1;33m\u001b[0m\u001b[0m\n\u001b[1;32m----> 3\u001b[1;33m \u001b[0mt\u001b[0m \u001b[1;33m=\u001b[0m \u001b[0mfinding_sup\u001b[0m\u001b[1;33m(\u001b[0m\u001b[0mX_ep\u001b[0m\u001b[1;33m,\u001b[0m \u001b[0memp_dist_func\u001b[0m\u001b[1;33m,\u001b[0m \u001b[0mfunc\u001b[0m\u001b[1;33m)\u001b[0m\u001b[1;33m\u001b[0m\u001b[1;33m\u001b[0m\u001b[0m\n\u001b[0m\u001b[0;32m      4\u001b[0m \u001b[0mt\u001b[0m\u001b[1;33m\u001b[0m\u001b[1;33m\u001b[0m\u001b[0m\n",
      "\u001b[1;32m<ipython-input-21-60de0021a6ea>\u001b[0m in \u001b[0;36mfinding_sup\u001b[1;34m(X_ep, emp_dist_func, func)\u001b[0m\n\u001b[0;32m      7\u001b[0m     \u001b[0mY_ep\u001b[0m \u001b[1;33m=\u001b[0m \u001b[0memp_dist_func\u001b[0m\u001b[1;33m(\u001b[0m\u001b[0mX_ep\u001b[0m\u001b[1;33m)\u001b[0m\u001b[1;33m\u001b[0m\u001b[1;33m\u001b[0m\u001b[0m\n\u001b[0;32m      8\u001b[0m     \u001b[1;32mfor\u001b[0m \u001b[0mi\u001b[0m \u001b[1;32min\u001b[0m \u001b[0mrange\u001b[0m\u001b[1;33m(\u001b[0m\u001b[0mn\u001b[0m\u001b[1;33m)\u001b[0m\u001b[1;33m:\u001b[0m\u001b[1;33m\u001b[0m\u001b[1;33m\u001b[0m\u001b[0m\n\u001b[1;32m----> 9\u001b[1;33m         \u001b[0mm\u001b[0m \u001b[1;33m=\u001b[0m \u001b[0mnp\u001b[0m\u001b[1;33m.\u001b[0m\u001b[0msqrt\u001b[0m\u001b[1;33m(\u001b[0m\u001b[0mn\u001b[0m\u001b[1;33m)\u001b[0m\u001b[1;33m*\u001b[0m\u001b[0mabs\u001b[0m\u001b[1;33m(\u001b[0m\u001b[0mY_ep\u001b[0m\u001b[1;33m[\u001b[0m\u001b[0mi\u001b[0m\u001b[1;33m]\u001b[0m \u001b[1;33m-\u001b[0m \u001b[0mfunc\u001b[0m\u001b[1;33m(\u001b[0m\u001b[0mX_ep\u001b[0m\u001b[1;33m[\u001b[0m\u001b[0mi\u001b[0m\u001b[1;33m]\u001b[0m\u001b[1;33m)\u001b[0m\u001b[1;33m)\u001b[0m\u001b[1;33m\u001b[0m\u001b[1;33m\u001b[0m\u001b[0m\n\u001b[0m\u001b[0;32m     10\u001b[0m         \u001b[1;32mif\u001b[0m \u001b[0mm\u001b[0m \u001b[1;33m>\u001b[0m \u001b[0mres\u001b[0m\u001b[1;33m:\u001b[0m\u001b[1;33m\u001b[0m\u001b[1;33m\u001b[0m\u001b[0m\n\u001b[0;32m     11\u001b[0m             \u001b[0mres\u001b[0m \u001b[1;33m=\u001b[0m \u001b[0mm\u001b[0m\u001b[1;33m\u001b[0m\u001b[1;33m\u001b[0m\u001b[0m\n",
      "\u001b[1;31mTypeError\u001b[0m: unsupported operand type(s) for -: 'float' and 'NoneType'"
     ]
    }
   ],
   "source": [
    "func = dist_func_9\n",
    "\n",
    "t = finding_sup(X_ep, emp_dist_func, func)\n",
    "t"
   ]
  },
  {
   "cell_type": "code",
   "execution_count": null,
   "metadata": {},
   "outputs": [],
   "source": []
  }
 ],
 "metadata": {
  "kernelspec": {
   "display_name": "Python 3",
   "language": "python",
   "name": "python3"
  },
  "language_info": {
   "codemirror_mode": {
    "name": "ipython",
    "version": 3
   },
   "file_extension": ".py",
   "mimetype": "text/x-python",
   "name": "python",
   "nbconvert_exporter": "python",
   "pygments_lexer": "ipython3",
   "version": "3.7.3"
  }
 },
 "nbformat": 4,
 "nbformat_minor": 2
}
