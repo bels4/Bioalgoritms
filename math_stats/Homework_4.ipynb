{
 "cells": [
  {
   "cell_type": "code",
   "execution_count": 1,
   "metadata": {},
   "outputs": [],
   "source": [
    "import numpy as np\n",
    "import scipy.stats as sts\n",
    "import matplotlib.pyplot as plt\n",
    "import scipy.special as scp"
   ]
  },
  {
   "cell_type": "code",
   "execution_count": 2,
   "metadata": {},
   "outputs": [
    {
     "data": {
      "text/plain": [
       "['Ex3.a',\n",
       " 'Ex3.b',\n",
       " 'Ex3.c',\n",
       " 'Ex4.a',\n",
       " 'Ex4.b',\n",
       " 'Ex4.c',\n",
       " 'Ex4.d',\n",
       " 'Ex5',\n",
       " 'Ex6',\n",
       " 'Ex7',\n",
       " 'Ex8',\n",
       " 'Ex9',\n",
       " 'Ex10',\n",
       " 'Ex11\\n']"
      ]
     },
     "execution_count": 2,
     "metadata": {},
     "output_type": "execute_result"
    }
   ],
   "source": [
    "f = open('IB_statistics_data_hw4.txt', 'r')\n",
    "line_1 = f.readline()\n",
    "list_ex = line_1.split(' ')\n",
    "list_ex"
   ]
  },
  {
   "cell_type": "code",
   "execution_count": 3,
   "metadata": {},
   "outputs": [
    {
     "data": {
      "text/plain": [
       "'Ex10'"
      ]
     },
     "execution_count": 3,
     "metadata": {},
     "output_type": "execute_result"
    }
   ],
   "source": [
    "list_ex[12]"
   ]
  },
  {
   "cell_type": "code",
   "execution_count": 4,
   "metadata": {},
   "outputs": [
    {
     "data": {
      "text/plain": [
       "[[], [], [], [], [], [], [], [], [], [], [], [], [], []]"
      ]
     },
     "execution_count": 4,
     "metadata": {},
     "output_type": "execute_result"
    }
   ],
   "source": [
    "data = [[] for x in range(len(list_ex))]\n",
    "data"
   ]
  },
  {
   "cell_type": "code",
   "execution_count": 5,
   "metadata": {},
   "outputs": [],
   "source": [
    "for line in f:\n",
    "    res = line.split(' ')\n",
    "    for i in range(len(res)):\n",
    "        data[i].append(res[i])"
   ]
  },
  {
   "cell_type": "code",
   "execution_count": 6,
   "metadata": {},
   "outputs": [],
   "source": [
    "for i in range(len(data)):\n",
    "    for j in range(len(data[0])):\n",
    "        data[i][j] = float(data[i][j])"
   ]
  },
  {
   "cell_type": "markdown",
   "metadata": {},
   "source": [
    "### Analyzing"
   ]
  },
  {
   "cell_type": "code",
   "execution_count": 59,
   "metadata": {},
   "outputs": [],
   "source": [
    "#Ex_3a\n",
    "arr_1 = data[0]\n",
    "arr_1 = np.array(arr_1)"
   ]
  },
  {
   "cell_type": "code",
   "execution_count": 60,
   "metadata": {},
   "outputs": [],
   "source": [
    "x_mean = arr_1.mean()\n",
    "n = len(arr_1)\n",
    "s2 = 2"
   ]
  },
  {
   "cell_type": "code",
   "execution_count": 61,
   "metadata": {},
   "outputs": [
    {
     "name": "stdout",
     "output_type": "stream",
     "text": [
      "106.9000035144675 107.07448121254905\n"
     ]
    }
   ],
   "source": [
    "g_1 = sts.norm.ppf(0.025)\n",
    "g_2 = sts.norm.ppf(0.975)\n",
    "\n",
    "interval_1 = x_mean - s2*g_2/np.sqrt(n)\n",
    "interval_2 = x_mean - s2*g_1/np.sqrt(n)\n",
    "\n",
    "print(interval_1, interval_2)"
   ]
  },
  {
   "cell_type": "code",
   "execution_count": 11,
   "metadata": {},
   "outputs": [],
   "source": [
    "#Ex_3b"
   ]
  },
  {
   "cell_type": "code",
   "execution_count": 14,
   "metadata": {},
   "outputs": [
    {
     "name": "stdout",
     "output_type": "stream",
     "text": [
      "[7.243586   7.1515776  7.28386366 ... 7.19718452 7.35796134 7.69683523]\n"
     ]
    }
   ],
   "source": [
    "arr_2 = data[1]\n",
    "arr_2 = np.array(arr_2)\n",
    "print(arr_2)"
   ]
  },
  {
   "cell_type": "code",
   "execution_count": 17,
   "metadata": {},
   "outputs": [
    {
     "data": {
      "text/plain": [
       "0.79968174859156"
      ]
     },
     "execution_count": 17,
     "metadata": {},
     "output_type": "execute_result"
    }
   ],
   "source": [
    "arr_2.std()"
   ]
  },
  {
   "cell_type": "code",
   "execution_count": 18,
   "metadata": {},
   "outputs": [],
   "source": [
    "x_mean = 7.5\n",
    "n = len(arr_2)\n",
    "s = 0\n",
    "for i in range(n):\n",
    "    s += (arr_2[i]-x_mean)**2"
   ]
  },
  {
   "cell_type": "code",
   "execution_count": 20,
   "metadata": {
    "scrolled": true
   },
   "outputs": [
    {
     "name": "stdout",
     "output_type": "stream",
     "text": [
      "0.7758281731618566 0.8252061724809142\n"
     ]
    }
   ],
   "source": [
    "g_1 = sts.chi2.ppf(0.025, n)\n",
    "g_2 = sts.chi2.ppf(0.975, n)\n",
    "\n",
    "interval_1 = np.sqrt(s/g_2)\n",
    "interval_2 = np.sqrt(s/g_1)\n",
    "\n",
    "print(interval_1, interval_2)"
   ]
  },
  {
   "cell_type": "code",
   "execution_count": 7,
   "metadata": {},
   "outputs": [],
   "source": [
    "#Ex_3c"
   ]
  },
  {
   "cell_type": "code",
   "execution_count": 21,
   "metadata": {},
   "outputs": [
    {
     "name": "stdout",
     "output_type": "stream",
     "text": [
      "[ -7.47739956 -11.47674591  -7.75843695 ...   2.24934428   4.58291782\n",
      " -19.84643869]\n"
     ]
    }
   ],
   "source": [
    "arr_3 = data[2]\n",
    "arr_3 = np.array(arr_3)\n",
    "print(arr_3)"
   ]
  },
  {
   "cell_type": "code",
   "execution_count": 26,
   "metadata": {},
   "outputs": [
    {
     "name": "stdout",
     "output_type": "stream",
     "text": [
      "-1.2855062014893934\n"
     ]
    }
   ],
   "source": [
    "x_mean = arr_3.mean()\n",
    "n = len(arr_3)\n",
    "s = arr_3.std()**2\n",
    "\n",
    "print(x_mean)"
   ]
  },
  {
   "cell_type": "code",
   "execution_count": 25,
   "metadata": {},
   "outputs": [
    {
     "name": "stdout",
     "output_type": "stream",
     "text": [
      "466.71268714017623 528.0277335709055\n"
     ]
    }
   ],
   "source": [
    "g_1 = sts.chi2.ppf(0.025, n-1)\n",
    "g_2 = sts.chi2.ppf(0.975, n-1)\n",
    "\n",
    "interval_1 = n*s/g_2\n",
    "interval_2 = n*s/g_1\n",
    "\n",
    "print(interval_1, interval_2)"
   ]
  },
  {
   "cell_type": "code",
   "execution_count": 93,
   "metadata": {
    "scrolled": true
   },
   "outputs": [
    {
     "name": "stdout",
     "output_type": "stream",
     "text": [
      "-2.2572458517206377 -0.3137665512581489\n"
     ]
    }
   ],
   "source": [
    "g_1 = sts.t.ppf(0.025, n-1)\n",
    "g_2 = sts.t.ppf(0.975, n-1)\n",
    "\n",
    "interval_1 = x_mean - np.sqrt(s)*g_2/np.sqrt(n)\n",
    "interval_2 = x_mean - np.sqrt(s)*g_1/np.sqrt(n)\n",
    "\n",
    "print(interval_1, interval_2)"
   ]
  },
  {
   "cell_type": "code",
   "execution_count": 96,
   "metadata": {},
   "outputs": [],
   "source": [
    "#Ex_4a"
   ]
  },
  {
   "cell_type": "code",
   "execution_count": 103,
   "metadata": {},
   "outputs": [
    {
     "name": "stdout",
     "output_type": "stream",
     "text": [
      "[0. 0. 0. ... 0. 1. 0.]\n"
     ]
    }
   ],
   "source": [
    "arr_4 = data[3]\n",
    "arr_4 = np.array(arr_4)\n",
    "print(arr_4)"
   ]
  },
  {
   "cell_type": "code",
   "execution_count": 104,
   "metadata": {},
   "outputs": [
    {
     "name": "stdout",
     "output_type": "stream",
     "text": [
      "0.4343734522040614\n"
     ]
    }
   ],
   "source": [
    "x_mean = arr_4.mean()\n",
    "n = len(arr_4)\n",
    "s = arr_4.std()**2\n",
    "print(x_mean)"
   ]
  },
  {
   "cell_type": "code",
   "execution_count": 109,
   "metadata": {
    "scrolled": true
   },
   "outputs": [
    {
     "name": "stdout",
     "output_type": "stream",
     "text": [
      "0.4127524181285717 0.4559944862795512\n"
     ]
    }
   ],
   "source": [
    "g_1 = sts.norm.ppf(0.025)\n",
    "g_2 = sts.norm.ppf(0.975)\n",
    "\n",
    "interval_1 = x_mean - np.sqrt(x_mean*(1-x_mean)/n)*g_2\n",
    "interval_2 = x_mean - np.sqrt(x_mean*(1-x_mean)/n)*g_1\n",
    "\n",
    "print(interval_1, interval_2)"
   ]
  },
  {
   "cell_type": "code",
   "execution_count": 110,
   "metadata": {},
   "outputs": [],
   "source": [
    "#Ex_4б"
   ]
  },
  {
   "cell_type": "code",
   "execution_count": 111,
   "metadata": {},
   "outputs": [
    {
     "name": "stdout",
     "output_type": "stream",
     "text": [
      "[57. 73. 60. ... 60. 72. 60.]\n"
     ]
    }
   ],
   "source": [
    "arr_5 = data[4]\n",
    "arr_5 = np.array(arr_5)\n",
    "print(arr_5)"
   ]
  },
  {
   "cell_type": "code",
   "execution_count": 112,
   "metadata": {},
   "outputs": [
    {
     "name": "stdout",
     "output_type": "stream",
     "text": [
      "61.83605745418524\n"
     ]
    }
   ],
   "source": [
    "x_mean = arr_5.mean()\n",
    "n = len(arr_5)\n",
    "s = arr_5.std()**2\n",
    "print(x_mean)"
   ]
  },
  {
   "cell_type": "code",
   "execution_count": 113,
   "metadata": {
    "scrolled": true
   },
   "outputs": [
    {
     "name": "stdout",
     "output_type": "stream",
     "text": [
      "61.49305215663466 62.17906275173581\n"
     ]
    }
   ],
   "source": [
    "g_1 = sts.norm.ppf(0.025)\n",
    "g_2 = sts.norm.ppf(0.975)\n",
    "\n",
    "interval_1 = x_mean - np.sqrt(x_mean/n)*g_2\n",
    "interval_2 = x_mean - np.sqrt(x_mean/n)*g_1\n",
    "\n",
    "print(interval_1, interval_2)"
   ]
  },
  {
   "cell_type": "code",
   "execution_count": 110,
   "metadata": {},
   "outputs": [],
   "source": [
    "#Ex_4c"
   ]
  },
  {
   "cell_type": "code",
   "execution_count": 117,
   "metadata": {},
   "outputs": [
    {
     "name": "stdout",
     "output_type": "stream",
     "text": [
      "[12. 11. 18. ... 14. 15. 13.]\n"
     ]
    }
   ],
   "source": [
    "arr_6 = data[5]\n",
    "arr_6 = np.array(arr_6)\n",
    "print(arr_6)"
   ]
  },
  {
   "cell_type": "code",
   "execution_count": 119,
   "metadata": {},
   "outputs": [
    {
     "name": "stdout",
     "output_type": "stream",
     "text": [
      "204.26661006155805\n"
     ]
    }
   ],
   "source": [
    "x_mean = arr_6.mean()\n",
    "p = 0.07\n",
    "n = len(arr_6)\n",
    "s = arr_6.std()**2\n",
    "print(x_mean/0.07)"
   ]
  },
  {
   "cell_type": "code",
   "execution_count": 120,
   "metadata": {
    "scrolled": true
   },
   "outputs": [
    {
     "name": "stdout",
     "output_type": "stream",
     "text": [
      "204.10754708081348 204.42567304230263\n"
     ]
    }
   ],
   "source": [
    "g_1 = sts.norm.ppf(0.025)\n",
    "g_2 = sts.norm.ppf(0.975)\n",
    "\n",
    "interval_1 = x_mean/p - g_2*np.sqrt((1-p)*x_mean/n)\n",
    "interval_2 = x_mean/p - g_1*np.sqrt((1-p)*x_mean/n)\n",
    "\n",
    "print(interval_1, interval_2)"
   ]
  },
  {
   "cell_type": "code",
   "execution_count": 110,
   "metadata": {},
   "outputs": [],
   "source": [
    "#Ex_4d"
   ]
  },
  {
   "cell_type": "code",
   "execution_count": 121,
   "metadata": {},
   "outputs": [
    {
     "name": "stdout",
     "output_type": "stream",
     "text": [
      "[2. 0. 4. ... 0. 4. 7.]\n"
     ]
    }
   ],
   "source": [
    "arr_7 = data[6]\n",
    "arr_7 = np.array(arr_7)\n",
    "print(arr_7)"
   ]
  },
  {
   "cell_type": "code",
   "execution_count": 129,
   "metadata": {},
   "outputs": [
    {
     "name": "stdout",
     "output_type": "stream",
     "text": [
      "0.13824032865457034 6.631892576097748 2019\n"
     ]
    }
   ],
   "source": [
    "x_mean = arr_7.mean()\n",
    "n = len(arr_7)\n",
    "s = arr_7.std()\n",
    "p = 1/(x_mean+1)\n",
    "print(p, s, n)"
   ]
  },
  {
   "cell_type": "code",
   "execution_count": 130,
   "metadata": {},
   "outputs": [
    {
     "name": "stdout",
     "output_type": "stream",
     "text": [
      "6.7151903136286935\n"
     ]
    }
   ],
   "source": [
    "sigma = np.sqrt((1-p)/p**2)\n",
    "print(sigma)"
   ]
  },
  {
   "cell_type": "code",
   "execution_count": 133,
   "metadata": {
    "scrolled": true
   },
   "outputs": [
    {
     "name": "stdout",
     "output_type": "stream",
     "text": [
      "-0.15467240837080345 0.43115306567994416\n",
      "-0.15103900899585318 0.42751966630499394\n"
     ]
    }
   ],
   "source": [
    "g_1 = sts.norm.ppf(0.025)\n",
    "g_2 = sts.norm.ppf(0.975)\n",
    "\n",
    "interval_1 = p - g_2*sigma/np.sqrt(n)\n",
    "interval_2 = p - g_1*sigma/np.sqrt(n)\n",
    "\n",
    "print(interval_1, interval_2)\n",
    "\n",
    "interval_1_s = p - g_2*s/np.sqrt(n)\n",
    "interval_2_s = p - g_1*s/np.sqrt(n)\n",
    "\n",
    "print(interval_1_s, interval_2_s)"
   ]
  },
  {
   "cell_type": "code",
   "execution_count": 110,
   "metadata": {},
   "outputs": [],
   "source": [
    "#Ex_5"
   ]
  },
  {
   "cell_type": "code",
   "execution_count": 135,
   "metadata": {},
   "outputs": [
    {
     "name": "stdout",
     "output_type": "stream",
     "text": [
      "[18.65438377 12.50788801  3.23764216 ...  6.78423938 23.95790747\n",
      "  4.47192804]\n"
     ]
    }
   ],
   "source": [
    "arr_8 = data[7]\n",
    "arr_8 = np.array(arr_8)\n",
    "print(arr_8)"
   ]
  },
  {
   "cell_type": "code",
   "execution_count": 144,
   "metadata": {},
   "outputs": [
    {
     "name": "stdout",
     "output_type": "stream",
     "text": [
      "9.898842915146215 5.211438114066591 2019 9.914110074725649 7.910315362723737\n"
     ]
    }
   ],
   "source": [
    "x_mean = arr_8.mean()\n",
    "n = len(arr_8)\n",
    "s = arr_8.std()\n",
    "sigma = 0\n",
    "for x in arr_8:\n",
    "    sigma += x**2\n",
    "sigma = np.sqrt(sigma/(2*n))\n",
    "print(x_mean, s, n, np.sqrt(np.pi/2)*sigma, sigma)"
   ]
  },
  {
   "cell_type": "code",
   "execution_count": 142,
   "metadata": {},
   "outputs": [
    {
     "name": "stdout",
     "output_type": "stream",
     "text": [
      "5.182335352108133\n"
     ]
    }
   ],
   "source": [
    "std = np.sqrt((2-np.pi/2)*sigma**2)\n",
    "print(std)"
   ]
  },
  {
   "cell_type": "code",
   "execution_count": 145,
   "metadata": {
    "scrolled": true
   },
   "outputs": [
    {
     "name": "stdout",
     "output_type": "stream",
     "text": [
      "7.6842648769931134 8.13636584845436\n",
      "7.682995431264532 8.137635294182942\n"
     ]
    }
   ],
   "source": [
    "g_1 = sts.norm.ppf(0.025)\n",
    "g_2 = sts.norm.ppf(0.975)\n",
    "\n",
    "interval_1 = sigma - g_2*std/np.sqrt(n)\n",
    "interval_2 = sigma - g_1*std/np.sqrt(n)\n",
    "\n",
    "print(interval_1, interval_2)\n",
    "\n",
    "interval_1_s = sigma - g_2*s/np.sqrt(n)\n",
    "interval_2_s = sigma - g_1*s/np.sqrt(n)\n",
    "\n",
    "print(interval_1_s, interval_2_s)"
   ]
  },
  {
   "cell_type": "code",
   "execution_count": 110,
   "metadata": {},
   "outputs": [],
   "source": [
    "#Ex_6"
   ]
  },
  {
   "cell_type": "code",
   "execution_count": 24,
   "metadata": {},
   "outputs": [
    {
     "name": "stdout",
     "output_type": "stream",
     "text": [
      "[25. 30. 19. ... 23. 29. 25.]\n"
     ]
    }
   ],
   "source": [
    "arr_9 = data[8]\n",
    "arr_9 = np.array(arr_9)\n",
    "print(arr_9)"
   ]
  },
  {
   "cell_type": "code",
   "execution_count": 25,
   "metadata": {
    "scrolled": true
   },
   "outputs": [
    {
     "name": "stdout",
     "output_type": "stream",
     "text": [
      "26.490341753343237 4.196543405568954 2019\n"
     ]
    }
   ],
   "source": [
    "x_mean = arr_9.mean()\n",
    "n = len(arr_9)\n",
    "s = arr_9.std()\n",
    "\n",
    "print(x_mean, s, n)"
   ]
  },
  {
   "cell_type": "code",
   "execution_count": 29,
   "metadata": {},
   "outputs": [
    {
     "name": "stdout",
     "output_type": "stream",
     "text": [
      "0.33519254984312674 79.0302223773797\n"
     ]
    }
   ],
   "source": [
    "p = (x_mean - s**2)/x_mean\n",
    "m = (x_mean)**2/(x_mean-s**2)\n",
    "print(p, m)\n",
    "\n",
    "std = np.sqrt(p*(1-p)*m)"
   ]
  },
  {
   "cell_type": "code",
   "execution_count": 30,
   "metadata": {
    "scrolled": false
   },
   "outputs": [
    {
     "name": "stdout",
     "output_type": "stream",
     "text": [
      "0.1521417415173758 0.5182433581688778\n",
      "78.84717156905396 79.21327318570545\n"
     ]
    }
   ],
   "source": [
    "g_1 = sts.norm.ppf(0.025)\n",
    "g_2 = sts.norm.ppf(0.975)\n",
    "\n",
    "interval_1 = p - g_2*std/np.sqrt(n)\n",
    "interval_2 = p - g_1*std/np.sqrt(n)\n",
    "\n",
    "print(interval_1, interval_2)\n",
    "\n",
    "interval_1_s = m - g_2*std/np.sqrt(n)\n",
    "interval_2_s = m - g_1*std/np.sqrt(n)\n",
    "\n",
    "print(interval_1_s, interval_2_s)"
   ]
  },
  {
   "cell_type": "code",
   "execution_count": 110,
   "metadata": {},
   "outputs": [],
   "source": [
    "#Ex_7"
   ]
  },
  {
   "cell_type": "code",
   "execution_count": 162,
   "metadata": {},
   "outputs": [
    {
     "name": "stdout",
     "output_type": "stream",
     "text": [
      "8.0\n"
     ]
    }
   ],
   "source": [
    "arr_10 = data[9]\n",
    "arr_10 = np.array(arr_10)\n",
    "print(arr_10[343])"
   ]
  },
  {
   "cell_type": "code",
   "execution_count": 163,
   "metadata": {},
   "outputs": [
    {
     "name": "stdout",
     "output_type": "stream",
     "text": [
      "1.9712729073798911 1.323078536813121 2019\n"
     ]
    }
   ],
   "source": [
    "x_mean = arr_10.mean()\n",
    "n = len(arr_10)\n",
    "s = arr_10.std()\n",
    "\n",
    "print(x_mean, s, n)"
   ]
  },
  {
   "cell_type": "code",
   "execution_count": 171,
   "metadata": {},
   "outputs": [
    {
     "data": {
      "text/plain": [
       "array([0.30229687])"
      ]
     },
     "execution_count": 171,
     "metadata": {},
     "output_type": "execute_result"
    }
   ],
   "source": [
    "from scipy.optimize import fsolve\n",
    "\n",
    "def equation(theta):\n",
    "    return (np.log((2*p-1)/p))/np.log(p) - theta\n",
    "\n",
    "p = fsolve(equation, 8)\n",
    "p"
   ]
  },
  {
   "cell_type": "code",
   "execution_count": 177,
   "metadata": {},
   "outputs": [
    {
     "data": {
      "text/plain": [
       "1.044806979941915"
      ]
     },
     "execution_count": 177,
     "metadata": {},
     "output_type": "execute_result"
    }
   ],
   "source": [
    "s = 0\n",
    "for i in range(1, 9):\n",
    "    s += i*0.39**i\n",
    "p = 0.385"
   ]
  },
  {
   "cell_type": "code",
   "execution_count": 179,
   "metadata": {},
   "outputs": [
    {
     "data": {
      "text/plain": [
       "1.4200005818015502"
      ]
     },
     "execution_count": 179,
     "metadata": {},
     "output_type": "execute_result"
    }
   ],
   "source": [
    "s**8"
   ]
  },
  {
   "cell_type": "code",
   "execution_count": 183,
   "metadata": {},
   "outputs": [
    {
     "name": "stdout",
     "output_type": "stream",
     "text": [
      "[0.86865797]\n"
     ]
    }
   ],
   "source": [
    "print((1-p**8)**2019)"
   ]
  },
  {
   "cell_type": "code",
   "execution_count": 145,
   "metadata": {
    "scrolled": false
   },
   "outputs": [
    {
     "name": "stdout",
     "output_type": "stream",
     "text": [
      "7.6842648769931134 8.13636584845436\n",
      "7.682995431264532 8.137635294182942\n"
     ]
    }
   ],
   "source": [
    "g_1 = sts.norm.ppf(0.025)\n",
    "g_2 = sts.norm.ppf(0.975)\n",
    "\n",
    "interval_1 = sigma - g_2*std/np.sqrt(n)\n",
    "interval_2 = sigma - g_1*std/np.sqrt(n)\n",
    "\n",
    "print(interval_1, interval_2)\n",
    "\n",
    "interval_1_s = sigma - g_2*s/np.sqrt(n)\n",
    "interval_2_s = sigma - g_1*s/np.sqrt(n)\n",
    "\n",
    "print(interval_1_s, interval_2_s)"
   ]
  },
  {
   "cell_type": "code",
   "execution_count": null,
   "metadata": {},
   "outputs": [],
   "source": [
    "#Ex_10"
   ]
  },
  {
   "cell_type": "code",
   "execution_count": 15,
   "metadata": {},
   "outputs": [
    {
     "name": "stdout",
     "output_type": "stream",
     "text": [
      "[-2.06511097  1.24962602 -2.14357806 ... -2.35538587 -5.28481821\n",
      " -1.82061961]\n"
     ]
    }
   ],
   "source": [
    "arr_13 = data[12]\n",
    "arr_13 = np.array(arr_13)\n",
    "print(arr_13)"
   ]
  },
  {
   "cell_type": "code",
   "execution_count": 16,
   "metadata": {},
   "outputs": [
    {
     "name": "stdout",
     "output_type": "stream",
     "text": [
      "1.7438903429367514 -2.975087198298646\n"
     ]
    }
   ],
   "source": [
    "x_mean = arr_13.mean()\n",
    "n = len(arr_13)\n",
    "s = arr_13.std()**2\n",
    "\n",
    "print(s**0.5, x_mean)"
   ]
  },
  {
   "cell_type": "code",
   "execution_count": 23,
   "metadata": {},
   "outputs": [
    {
     "data": {
      "text/plain": [
       "array([-2.04118065])"
      ]
     },
     "execution_count": 23,
     "metadata": {},
     "output_type": "execute_result"
    }
   ],
   "source": [
    "from scipy.optimize import fsolve\n",
    "\n",
    "g_1 = sts.chi2.ppf(0.025, n)\n",
    "g_2 = sts.chi2.ppf(0.975, n)\n",
    "\n",
    "summ_2 = 0\n",
    "for x in arr_13:\n",
    "    summ_2 += x**2\n",
    "summ_2 = summ_2/n\n",
    "\n",
    "def equation(theta,):\n",
    "    return n*summ_2 - n*2*x_mean*theta + (n-g_1)*theta**2\n",
    "\n",
    "sigma = fsolve(equation, -3)\n",
    "sigma"
   ]
  },
  {
   "cell_type": "code",
   "execution_count": 45,
   "metadata": {},
   "outputs": [],
   "source": [
    "#Ex 8"
   ]
  },
  {
   "cell_type": "code",
   "execution_count": 7,
   "metadata": {},
   "outputs": [
    {
     "name": "stdout",
     "output_type": "stream",
     "text": [
      "[0.0505231  0.07706069 0.         ... 0.29414683 0.         0.25365367]\n"
     ]
    }
   ],
   "source": [
    "arr_11 = data[10]\n",
    "arr_11 = np.array(arr_11)\n",
    "print(arr_11)"
   ]
  },
  {
   "cell_type": "code",
   "execution_count": 8,
   "metadata": {},
   "outputs": [
    {
     "name": "stdout",
     "output_type": "stream",
     "text": [
      "0.045699357257548444 0.08463340522184624 2019\n"
     ]
    }
   ],
   "source": [
    "x_mean = arr_11.mean()\n",
    "n = len(arr_11)\n",
    "s = arr_11.std()\n",
    "\n",
    "print(x_mean, s, n)"
   ]
  },
  {
   "cell_type": "code",
   "execution_count": 11,
   "metadata": {},
   "outputs": [
    {
     "name": "stdout",
     "output_type": "stream",
     "text": [
      "0.6976777968539246 0.299312368431129\n"
     ]
    }
   ],
   "source": [
    "sigma = 1 - np.sqrt(2*x_mean)\n",
    "h = np.argmax(arr_11)\n",
    "h = arr_11[h]\n",
    "print(sigma, h)"
   ]
  },
  {
   "cell_type": "code",
   "execution_count": 14,
   "metadata": {
    "scrolled": true
   },
   "outputs": [
    {
     "name": "stdout",
     "output_type": "stream",
     "text": [
      "0.698010209547075 0.6973457492576847\n"
     ]
    }
   ],
   "source": [
    "g_1 = sts.norm.ppf(0.025)\n",
    "g_2 = sts.norm.ppf(0.975)\n",
    "\n",
    "interval_1 = 1-np.sqrt((x_mean - g_2*x_mean**(3/2)/np.sqrt(18*n))*2)\n",
    "interval_2 = 1-np.sqrt((x_mean - g_1*x_mean**(3/2)/np.sqrt(18*n))*2)\n",
    "\n",
    "print(interval_1, interval_2)"
   ]
  },
  {
   "cell_type": "code",
   "execution_count": 13,
   "metadata": {},
   "outputs": [
    {
     "data": {
      "text/plain": [
       "0.04569935725754844"
      ]
     },
     "execution_count": 13,
     "metadata": {},
     "output_type": "execute_result"
    }
   ],
   "source": [
    "(1-sigma)**2/2"
   ]
  },
  {
   "cell_type": "code",
   "execution_count": null,
   "metadata": {},
   "outputs": [],
   "source": []
  }
 ],
 "metadata": {
  "kernelspec": {
   "display_name": "Python 3",
   "language": "python",
   "name": "python3"
  },
  "language_info": {
   "codemirror_mode": {
    "name": "ipython",
    "version": 3
   },
   "file_extension": ".py",
   "mimetype": "text/x-python",
   "name": "python",
   "nbconvert_exporter": "python",
   "pygments_lexer": "ipython3",
   "version": "3.7.3"
  }
 },
 "nbformat": 4,
 "nbformat_minor": 2
}
