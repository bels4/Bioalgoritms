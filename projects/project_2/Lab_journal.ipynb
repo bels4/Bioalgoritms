{
 "cells": [
  {
   "cell_type": "markdown",
   "metadata": {},
   "source": [
    "## Lab journal for mini-project №2"
   ]
  },
  {
   "cell_type": "markdown",
   "metadata": {},
   "source": [
    "### Downloading data"
   ]
  },
  {
   "cell_type": "code",
   "execution_count": 1,
   "metadata": {},
   "outputs": [],
   "source": [
    "import sys\n",
    "import numpy as np"
   ]
  },
  {
   "cell_type": "raw",
   "metadata": {},
   "source": [
    "!sudo apt-get install bwa"
   ]
  },
  {
   "cell_type": "markdown",
   "metadata": {},
   "source": [
    "We have downloaded data for our roommate using sratools-kit from here https://www.ncbi.nlm.nih.gov/sra/?term=SRR1705851\n",
    "Reference genome have been taken from here http://public.dobzhanskycenter.ru/mrayko/Week2/KF848938.1.fasta via wget "
   ]
  },
  {
   "cell_type": "code",
   "execution_count": 2,
   "metadata": {},
   "outputs": [
    {
     "name": "stdout",
     "output_type": "stream",
     "text": [
      " alignment.bam                      reference.fasta.ann\r\n",
      " alignment.sam                      reference.fasta.bwt\r\n",
      " alignment_sorted.bam               reference.fasta.fai\r\n",
      " alignment_sorted.bam.bai           reference.fasta.pac\r\n",
      " alignment_sorted_strain1.bam       reference.fasta.sa\r\n",
      " alignment_sorted_strain1.bam.bai   roommate.fastq\r\n",
      " alignment_sorted_strain2.bam       roommate_genome.mpileup\r\n",
      " alignment_sorted_strain2.bam.bai   strain1.fastq\r\n",
      " alignment_sorted_strain3.bam       strain1_genome.mpileup\r\n",
      " alignment_sorted_strain3.bam.bai   strain2.fastq\r\n",
      "'alignment_sorted_strain?.bam'      strain3.fastq\r\n",
      " Lab_journal.ipynb                  varscan_roommate_01_results.vcf\r\n",
      " reference.fasta                    varscan_roommate_95_results.vcf\r\n",
      " reference.fasta.amb                varscan_strain1_01_results.vcf\r\n"
     ]
    }
   ],
   "source": [
    "%ls"
   ]
  },
  {
   "cell_type": "markdown",
   "metadata": {},
   "source": [
    "### Aligning reads using bwa and samtools"
   ]
  },
  {
   "cell_type": "code",
   "execution_count": 3,
   "metadata": {},
   "outputs": [
    {
     "name": "stdout",
     "output_type": "stream",
     "text": [
      "[bwa_index] Pack FASTA... 0.00 sec\n",
      "[bwa_index] Construct BWT for the packed sequence...\n",
      "[bwa_index] 0.00 seconds elapse.\n",
      "[bwa_index] Update BWT... 0.00 sec\n",
      "[bwa_index] Pack forward-only FASTA... 0.00 sec\n",
      "[bwa_index] Construct SA from BWT and Occ... 0.00 sec\n",
      "[main] Version: 0.7.17-r1188\n",
      "[main] CMD: bwa index reference.fasta\n",
      "[main] Real time: 0.181 sec; CPU: 0.007 sec\n"
     ]
    }
   ],
   "source": [
    "!bwa index reference.fasta"
   ]
  },
  {
   "cell_type": "code",
   "execution_count": 4,
   "metadata": {
    "scrolled": true
   },
   "outputs": [
    {
     "name": "stdout",
     "output_type": "stream",
     "text": [
      "[M::bwa_idx_load_from_disk] read 0 ALT contigs\n",
      "[M::process] read 68388 sequences (10000129 bp)...\n",
      "[M::mem_process_seqs] Processed 68388 reads in 1.624 CPU sec, 1.625 real sec\n",
      "[M::process] read 67628 sequences (10000233 bp)...\n",
      "[M::mem_process_seqs] Processed 67628 reads in 1.196 CPU sec, 1.189 real sec\n",
      "[M::process] read 67698 sequences (10000046 bp)...\n",
      "[M::mem_process_seqs] Processed 67698 reads in 1.633 CPU sec, 1.644 real sec\n",
      "[M::process] read 67652 sequences (10000169 bp)...\n",
      "[M::mem_process_seqs] Processed 67652 reads in 1.607 CPU sec, 1.603 real sec\n",
      "[M::process] read 68072 sequences (10000295 bp)...\n",
      "[M::mem_process_seqs] Processed 68072 reads in 1.422 CPU sec, 1.408 real sec\n",
      "[M::process] read 18827 sequences (2716992 bp)...\n",
      "[M::mem_process_seqs] Processed 18827 reads in 0.622 CPU sec, 0.629 real sec\n",
      "[main] Version: 0.7.17-r1188\n",
      "[main] CMD: bwa mem reference.fasta roommate.fastq\n",
      "[main] Real time: 37.523 sec; CPU: 9.245 sec\n"
     ]
    }
   ],
   "source": [
    "!bwa mem reference.fasta roommate.fastq > alignment.sam"
   ]
  },
  {
   "cell_type": "code",
   "execution_count": 5,
   "metadata": {},
   "outputs": [
    {
     "name": "stdout",
     "output_type": "stream",
     "text": [
      " alignment.bam                      reference.fasta.ann\r\n",
      " alignment.sam                      reference.fasta.bwt\r\n",
      " alignment_sorted.bam               reference.fasta.fai\r\n",
      " alignment_sorted.bam.bai           reference.fasta.pac\r\n",
      " alignment_sorted_strain1.bam       reference.fasta.sa\r\n",
      " alignment_sorted_strain1.bam.bai   roommate.fastq\r\n",
      " alignment_sorted_strain2.bam       roommate_genome.mpileup\r\n",
      " alignment_sorted_strain2.bam.bai   strain1.fastq\r\n",
      " alignment_sorted_strain3.bam       strain1_genome.mpileup\r\n",
      " alignment_sorted_strain3.bam.bai   strain2.fastq\r\n",
      "'alignment_sorted_strain?.bam'      strain3.fastq\r\n",
      " Lab_journal.ipynb                  varscan_roommate_01_results.vcf\r\n",
      " reference.fasta                    varscan_roommate_95_results.vcf\r\n",
      " reference.fasta.amb                varscan_strain1_01_results.vcf\r\n"
     ]
    }
   ],
   "source": [
    "%ls"
   ]
  },
  {
   "cell_type": "code",
   "execution_count": 6,
   "metadata": {
    "scrolled": true
   },
   "outputs": [],
   "source": [
    "!samtools view -S -b alignment.sam > alignment.bam"
   ]
  },
  {
   "cell_type": "code",
   "execution_count": 7,
   "metadata": {},
   "outputs": [
    {
     "name": "stdout",
     "output_type": "stream",
     "text": [
      "361349 + 0 in total (QC-passed reads + QC-failed reads)\r\n",
      "0 + 0 secondary\r\n",
      "3084 + 0 supplementary\r\n",
      "0 + 0 duplicates\r\n",
      "361116 + 0 mapped (99.94% : N/A)\r\n",
      "0 + 0 paired in sequencing\r\n",
      "0 + 0 read1\r\n",
      "0 + 0 read2\r\n",
      "0 + 0 properly paired (N/A : N/A)\r\n",
      "0 + 0 with itself and mate mapped\r\n",
      "0 + 0 singletons (N/A : N/A)\r\n",
      "0 + 0 with mate mapped to a different chr\r\n",
      "0 + 0 with mate mapped to a different chr (mapQ>=5)\r\n"
     ]
    }
   ],
   "source": [
    "!samtools flagstat alignment.bam"
   ]
  },
  {
   "cell_type": "code",
   "execution_count": 8,
   "metadata": {},
   "outputs": [],
   "source": [
    "!samtools sort alignment.bam -o alignment_sorted.bam"
   ]
  },
  {
   "cell_type": "code",
   "execution_count": 9,
   "metadata": {},
   "outputs": [],
   "source": [
    "!samtools index alignment_sorted.bam"
   ]
  },
  {
   "cell_type": "code",
   "execution_count": 10,
   "metadata": {},
   "outputs": [
    {
     "name": "stdout",
     "output_type": "stream",
     "text": [
      "Average =  7680.75\r\n"
     ]
    }
   ],
   "source": [
    "!samtools depth  alignment_sorted.bam  |  awk '{sum+=$3} END { print \"Average = \",sum/NR}'"
   ]
  },
  {
   "cell_type": "markdown",
   "metadata": {},
   "source": [
    "### Making pileup and trying to find mutations"
   ]
  },
  {
   "cell_type": "code",
   "execution_count": 11,
   "metadata": {},
   "outputs": [
    {
     "name": "stdout",
     "output_type": "stream",
     "text": [
      " alignment.bam                      reference.fasta.ann\r\n",
      " alignment.sam                      reference.fasta.bwt\r\n",
      " alignment_sorted.bam               reference.fasta.fai\r\n",
      " alignment_sorted.bam.bai           reference.fasta.pac\r\n",
      " alignment_sorted_strain1.bam       reference.fasta.sa\r\n",
      " alignment_sorted_strain1.bam.bai   roommate.fastq\r\n",
      " alignment_sorted_strain2.bam       roommate_genome.mpileup\r\n",
      " alignment_sorted_strain2.bam.bai   strain1.fastq\r\n",
      " alignment_sorted_strain3.bam       strain1_genome.mpileup\r\n",
      " alignment_sorted_strain3.bam.bai   strain2.fastq\r\n",
      "'alignment_sorted_strain?.bam'      strain3.fastq\r\n",
      " Lab_journal.ipynb                  varscan_roommate_01_results.vcf\r\n",
      " reference.fasta                    varscan_roommate_95_results.vcf\r\n",
      " reference.fasta.amb                varscan_strain1_01_results.vcf\r\n"
     ]
    }
   ],
   "source": [
    "%ls"
   ]
  },
  {
   "cell_type": "code",
   "execution_count": 12,
   "metadata": {},
   "outputs": [
    {
     "data": {
      "text/plain": [
       "'/home/belsawan/Documents/Bioinf/projects/project_2'"
      ]
     },
     "execution_count": 12,
     "metadata": {},
     "output_type": "execute_result"
    }
   ],
   "source": [
    "%pwd"
   ]
  },
  {
   "cell_type": "code",
   "execution_count": 13,
   "metadata": {},
   "outputs": [
    {
     "name": "stdout",
     "output_type": "stream",
     "text": [
      "[mpileup] 1 samples in 1 input files\r\n"
     ]
    }
   ],
   "source": [
    "!samtools mpileup -d 10000 -f  reference.fasta alignment_sorted.bam > roommate_genome.mpileup"
   ]
  },
  {
   "cell_type": "code",
   "execution_count": 15,
   "metadata": {
    "scrolled": true
   },
   "outputs": [
    {
     "name": "stdout",
     "output_type": "stream",
     "text": [
      "Only SNPs will be reported\n",
      "Warning: No p-value threshold provided, so p-values will not be calculated\n",
      "Min coverage:\t8\n",
      "Min reads2:\t2\n",
      "Min var freq:\t0.95\n",
      "Min avg qual:\t15\n",
      "P-value thresh:\t0.01\n",
      "Reading input from roommate_genome.mpileup\n",
      "1665 bases in pileup file\n",
      "5 variant positions (5 SNP, 0 indel)\n",
      "0 were failed by the strand-filter\n",
      "5 variant positions reported (5 SNP, 0 indel)\n"
     ]
    }
   ],
   "source": [
    "# Finding mutations with freq >= 0.95\n",
    "\n",
    "!java -jar /home/belsawan/Programs/VarScan.v2.4.0.jar mpileup2snp roommate_genome.mpileup \\\n",
    "--min-var-freq 0.95 --strand-filter 0 --variants --output-vcf 1 > varscan_roommate_95_results.vcf"
   ]
  },
  {
   "cell_type": "raw",
   "metadata": {},
   "source": [
    "!apt-get install gawk \n",
    "#gawk=awk"
   ]
  },
  {
   "cell_type": "code",
   "execution_count": 16,
   "metadata": {
    "scrolled": true
   },
   "outputs": [
    {
     "name": "stdout",
     "output_type": "stream",
     "text": [
      "Mutations: KF848938.1 72 A G | Freq in percent: 83%:0\r\n",
      "Mutations: KF848938.1 117 C T | Freq in percent: :99.3\r\n",
      "Mutations: KF848938.1 774 T C | Freq in percent: 99.96\r\n",
      "Mutations: KF848938.1 999 C T | Freq in percent: :99.8\r\n",
      "Mutations: KF848938.1 1260 A C | Freq in percent: 99.96\r\n"
     ]
    }
   ],
   "source": [
    "!cat varscan_roommate_95_results.vcf | gawk 'NR>24 {print \"Mutations:\",  $1, $2, $4, $5, \"| Freq in percent:\", substr($10, 26, 5)}'"
   ]
  },
  {
   "cell_type": "markdown",
   "metadata": {},
   "source": [
    "* These are out mutations which needed to be analyzed (min-var-freq = 0.95)"
   ]
  },
  {
   "cell_type": "code",
   "execution_count": 8,
   "metadata": {
    "scrolled": true
   },
   "outputs": [
    {
     "name": "stdout",
     "output_type": "stream",
     "text": [
      "Only SNPs will be reported\n",
      "Warning: No p-value threshold provided, so p-values will not be calculated\n",
      "Min coverage:\t8\n",
      "Min reads2:\t2\n",
      "Min var freq:\t0.001\n",
      "Min avg qual:\t15\n",
      "P-value thresh:\t0.01\n",
      "Reading input from roommate_genome.mpileup\n",
      "1665 bases in pileup file\n",
      "17 variant positions (14 SNP, 3 indel)\n",
      "1 were failed by the strand-filter\n",
      "13 variant positions reported (13 SNP, 0 indel)\n"
     ]
    }
   ],
   "source": [
    "# Finding mutations with freq >= 0.001\n",
    "\n",
    "!java -jar /home/belsawan/Programs/VarScan.v2.4.0.jar mpileup2snp roommate_genome.mpileup \\\n",
    "--min-var-freq 0.001 --variants --output-vcf 1 > varscan_roommate_01_results.vcf"
   ]
  },
  {
   "cell_type": "code",
   "execution_count": 9,
   "metadata": {
    "scrolled": false
   },
   "outputs": [
    {
     "name": "stdout",
     "output_type": "stream",
     "text": [
      "Mutations: KF848938.1 117 C T | Freq in percent: :99.3\r\n",
      "Mutations: KF848938.1 276 A G | Freq in percent: 0.26%\r\n",
      "Mutations: KF848938.1 307 C T | Freq in percent: :0.73\r\n",
      "Mutations: KF848938.1 389 T C | Freq in percent: 0.25%\r\n",
      "Mutations: KF848938.1 774 T C | Freq in percent: 99.96\r\n",
      "Mutations: KF848938.1 859 A G | Freq in percent: 0.25%\r\n",
      "Mutations: KF848938.1 915 T C | Freq in percent: 0.27%\r\n",
      "Mutations: KF848938.1 999 C T | Freq in percent: :99.8\r\n",
      "Mutations: KF848938.1 1213 A G | Freq in percent: 0.3%:\r\n",
      "Mutations: KF848938.1 1260 A C | Freq in percent: 99.96\r\n",
      "Mutations: KF848938.1 1280 T C | Freq in percent: 0.25%\r\n",
      "Mutations: KF848938.1 1458 T C | Freq in percent: :0.97\r\n",
      "Mutations: KF848938.1 1460 A G | Freq in percent: 0.27%\r\n"
     ]
    }
   ],
   "source": [
    "!cat varscan_roommate_01_results.vcf | gawk 'NR>24 {print \"Mutations:\",  $1, $2, $4, $5, \"| Freq in percent:\", substr($10, 26, 5)}'"
   ]
  },
  {
   "cell_type": "markdown",
   "metadata": {},
   "source": [
    "* These are out mutations which needed to be analyzed (min-var-freq = 0.001)"
   ]
  },
  {
   "cell_type": "markdown",
   "metadata": {},
   "source": [
    "### Downloading fastq reads for another strains"
   ]
  },
  {
   "cell_type": "code",
   "execution_count": 46,
   "metadata": {},
   "outputs": [
    {
     "name": "stdout",
     "output_type": "stream",
     "text": [
      "Read 233327 spots for SRR1705859\r\n",
      "Written 233327 spots for SRR1705859\r\n"
     ]
    }
   ],
   "source": [
    "!fastq-dump SRR1705859"
   ]
  },
  {
   "cell_type": "code",
   "execution_count": 47,
   "metadata": {},
   "outputs": [
    {
     "name": "stdout",
     "output_type": "stream",
     "text": [
      "Read 249964 spots for SRR1705860\r\n",
      "Written 249964 spots for SRR1705860\r\n"
     ]
    }
   ],
   "source": [
    "!fastq-dump SRR1705860"
   ]
  },
  {
   "cell_type": "code",
   "execution_count": 48,
   "metadata": {},
   "outputs": [
    {
     "name": "stdout",
     "output_type": "stream",
     "text": [
      "Read 256586 spots for SRR1705858\r\n",
      "Written 256586 spots for SRR1705858\r\n"
     ]
    }
   ],
   "source": [
    "!fastq-dump SRR1705858"
   ]
  },
  {
   "cell_type": "markdown",
   "metadata": {},
   "source": [
    "### Making control analyzes"
   ]
  },
  {
   "cell_type": "code",
   "execution_count": 10,
   "metadata": {},
   "outputs": [
    {
     "name": "stdout",
     "output_type": "stream",
     "text": [
      "alignment.bam             reference.fasta.pac\r\n",
      "alignment.sam             reference.fasta.sa\r\n",
      "alignment_sorted.bam      roommate.fastq\r\n",
      "alignment_sorted.bam.bai  roommate_genome.mpileup\r\n",
      "Lab_journal.ipynb         strain1.fastq\r\n",
      "reference.fasta           strain2.fastq\r\n",
      "reference.fasta.amb       strain3.fastq\r\n",
      "reference.fasta.ann       varscan_roommate_01_results.vcf\r\n",
      "reference.fasta.bwt       varscan_roommate_95_results.vcf\r\n",
      "reference.fasta.fai\r\n"
     ]
    }
   ],
   "source": [
    "%ls"
   ]
  },
  {
   "cell_type": "code",
   "execution_count": 11,
   "metadata": {},
   "outputs": [
    {
     "name": "stdout",
     "output_type": "stream",
     "text": [
      "wc: SRR1705858.fastq: No such file or directory\r\n"
     ]
    }
   ],
   "source": [
    "# Number of lines\n",
    "\n",
    "!wc -l SRR1705858.fastq"
   ]
  },
  {
   "cell_type": "code",
   "execution_count": 12,
   "metadata": {},
   "outputs": [
    {
     "name": "stdout",
     "output_type": "stream",
     "text": [
      "wc: SRR1705859.fastq: No such file or directory\r\n"
     ]
    }
   ],
   "source": [
    "# Number of lines\n",
    "\n",
    "!wc -l SRR1705859.fastq"
   ]
  },
  {
   "cell_type": "code",
   "execution_count": 13,
   "metadata": {},
   "outputs": [
    {
     "name": "stdout",
     "output_type": "stream",
     "text": [
      "wc: SRR1705860.fastq: No such file or directory\r\n"
     ]
    }
   ],
   "source": [
    "# Number of lines\n",
    "\n",
    "!wc -l SRR1705860.fastq"
   ]
  },
  {
   "cell_type": "code",
   "execution_count": 16,
   "metadata": {},
   "outputs": [
    {
     "name": "stdout",
     "output_type": "stream",
     "text": [
      "Average number of reads: 246625.67\n",
      "Number of pairs in reference genome: 1665\n",
      "Assume avg len of read is 100, then there are 2466.25 approximately reads for letter\n"
     ]
    }
   ],
   "source": [
    "# Counting\n",
    "\n",
    "a = np.array([1026344./4, 933308./4, 999856./4])\n",
    "print('Average number of reads:', round(a.mean(), 2))\n",
    "\n",
    "ref = 'CAAAAACTTCCTGGAAATGACAACAGCACGGCAACGCTGTGCCTTGGGCACCATGCAGTGCCAAACGGAACAATAGTGAAAACAATCACGAATGACCAAATTGAAGTTACTAATGCCACTGAGCTGGTTCAGAGTTCCTCAACAGGTGAAATATGCAACAGTCCTCATCAGATCCTTGATGGAGAAAACTGCACACTAATAGATGCTCTATTGGGAGACCCTCAGTGTGATGGCTTCCAAAACAAGAAATGGGACCTTTTTGTTGAACGAAGCAAAGCCCACAGCAACTGTTACCCTTATGATGTGCCGGATTATGCCTCCCTTAGGTCACTAGTTGCCTCATCCGGCACACTGGAGTTTAACAATGAAAGCTTCAATTGGACTGGAGTCACTCAAAACGGAACAAGCTCTGCTTGCATAAGGAGATCTAATAATAGTTTCTTTAGTAGATTGAATTGGTTGACCCACTTAAACTTCAAATACCCAGCATTGAACGTGACTATGCCAAACAATGAACAATTTGACAAATTGTACATTTGGGGGGTTCACCACCCGGGTACGGACAAGGACCAAATCTTCCTGTATGCTCAAGCAGCAGGAAGAATCACAGTATCTACCAAAAGAAGCCAACAAGCTGTAATTCCGAATATCGGATCTAGACCCAGAGTAAGGAATATCCCTAGCAGAGTAAGCATCTATTGGACAATAGTAAAACCGGGAGACATACTTTTGATTAACAGCACAGGGAATCTAATTGCTCCTAGGGGTTACTTTAAAATACGAAGTGGGAAAAGCTCAATAATGAGATCAGATGCACCCATTGGCAAATGCAATTCTGCATGCATCACTCCAAATGGAAGCATTCCCAATGACAAACCATTCCAAAATGTAAACAGGATCACATACGGGGCCTGTCCCAGATATGTTAAGCAAAACACTCTGAAATTGGCAACAGGAATGAGAAATGTACCAGAGAAACAAACTAGAGGCATATTTGGCGCAATAGCTGGTTTCATAGAAAATGGTTGGGAGGGAATGGTGGATGGTTGGTACGGTTTCAGGCATCAAAATTCTGAGGGAAGGGGACAAGCAGCAGATCTCAAAAGCACTCAAGCAGCAATCGATCAAATCAATGGGAAGCTGAATAGATTGATCGGGAAAACCAACGAGAAATTCCATCAGATTGAAAAAGAATTCTCAGAAGTCGAAGGGAGAATTCAGGACCTTGAGAAATATGTTGAGGACACTAAAATAGATCTATGGTCATACAACGCGGAGCTTCTTGTTGCCCTGGAGAACCAACACACAATTGATCTAACTGACTCAGAAATGAACAAATTGTTTGAAAAAACAAAGAAGCAACTGAGGGAAAATGCTGAGGATATGGGCAATGGTTGTTTCAAAATATACCACAAATGTGACAATGCCTGCATAGGATCAATCAGAAATGGAACTTATGACCACGATGTGTACAGAGATGAAGCATTAAACAACCGATTCCAGATCAAGGGAGTTGAGCTGAAGTCAGGGTACAAAGATTGGATCCTATGGATTTCCTTTGCCATATCATGTTTTTTGCTTTGTGTTGCTTTGTTGGGGTTCATCATGTGGGCCTGCCAAAAAGGCAACATTAGGTGCAACATTTGCATTTGAGTGCATTAATTA'\n",
    "print('Number of pairs in reference genome:', len(ref))\n",
    "\n",
    "print('Assume avg len of read is 100, then there are', 246625/100, 'approximately reads for letter')"
   ]
  },
  {
   "cell_type": "markdown",
   "metadata": {},
   "source": [
    "#### We will use next abbs:\n",
    "* strain1 = SRR1705858\n",
    "* strain2 = SRR1705859\n",
    "* strain3 = SRR1705860"
   ]
  },
  {
   "cell_type": "code",
   "execution_count": 18,
   "metadata": {},
   "outputs": [
    {
     "name": "stdout",
     "output_type": "stream",
     "text": [
      "alignment.bam             reference.fasta.pac\r\n",
      "alignment.sam             reference.fasta.sa\r\n",
      "alignment_sorted.bam      roommate.fastq\r\n",
      "alignment_sorted.bam.bai  roommate_genome.mpileup\r\n",
      "Lab_journal.ipynb         strain1.fastq\r\n",
      "reference.fasta           strain2.fastq\r\n",
      "reference.fasta.amb       strain3.fastq\r\n",
      "reference.fasta.ann       varscan_roommate_01_results.vcf\r\n",
      "reference.fasta.bwt       varscan_roommate_95_results.vcf\r\n",
      "reference.fasta.fai\r\n"
     ]
    }
   ],
   "source": [
    "%ls"
   ]
  },
  {
   "cell_type": "markdown",
   "metadata": {},
   "source": [
    "#### Analyze for strains"
   ]
  },
  {
   "cell_type": "raw",
   "metadata": {},
   "source": [
    "$bwa mem reference.fasta strain?.fastq | samtools view -S -b | samtools sort -o alignment_sorted_strain?.bam\n",
    "for strain1, strain2 and strain3"
   ]
  },
  {
   "cell_type": "code",
   "execution_count": 19,
   "metadata": {},
   "outputs": [],
   "source": [
    "!samtools index alignment_sorted_strain1.bam\n",
    "!samtools index alignment_sorted_strain2.bam\n",
    "!samtools index alignment_sorted_strain3.bam"
   ]
  },
  {
   "cell_type": "code",
   "execution_count": 20,
   "metadata": {},
   "outputs": [
    {
     "name": "stdout",
     "output_type": "stream",
     "text": [
      " alignment.bam                      reference.fasta.amb\r\n",
      " alignment.sam                      reference.fasta.ann\r\n",
      " alignment_sorted.bam               reference.fasta.bwt\r\n",
      " alignment_sorted.bam.bai           reference.fasta.fai\r\n",
      " alignment_sorted_strain1.bam       reference.fasta.pac\r\n",
      " alignment_sorted_strain1.bam.bai   reference.fasta.sa\r\n",
      " alignment_sorted_strain2.bam       roommate.fastq\r\n",
      " alignment_sorted_strain2.bam.bai   roommate_genome.mpileup\r\n",
      " alignment_sorted_strain3.bam       strain1.fastq\r\n",
      " alignment_sorted_strain3.bam.bai   strain2.fastq\r\n",
      "'alignment_sorted_strain?.bam'      strain3.fastq\r\n",
      " Lab_journal.ipynb                  varscan_roommate_01_results.vcf\r\n",
      " reference.fasta                    varscan_roommate_95_results.vcf\r\n"
     ]
    }
   ],
   "source": [
    "%ls"
   ]
  },
  {
   "cell_type": "code",
   "execution_count": 21,
   "metadata": {},
   "outputs": [
    {
     "name": "stdout",
     "output_type": "stream",
     "text": [
      "[mpileup] 1 samples in 1 input files\n",
      "Only SNPs will be reported\n",
      "Warning: No p-value threshold provided, so p-values will not be calculated\n",
      "Min coverage:\t8\n",
      "Min reads2:\t2\n",
      "Min var freq:\t0.001\n",
      "Min avg qual:\t15\n",
      "P-value thresh:\t0.01\n",
      "Reading input from strain1_genome.mpileup\n",
      "1665 bases in pileup file\n",
      "32 variant positions (32 SNP, 0 indel)\n",
      "0 were failed by the strand-filter\n",
      "32 variant positions reported (32 SNP, 0 indel)\n",
      "Mutations: KF848938.1 129 T C | Freq in percent: 0.32%\n",
      "Mutations: KF848938.1 165 T C | Freq in percent: 0.34%\n",
      "Mutations: KF848938.1 183 A G | Freq in percent: 0.33%\n",
      "Mutations: KF848938.1 218 A G | Freq in percent: 0.24%\n",
      "Mutations: KF848938.1 222 T C | Freq in percent: 0.26%\n",
      "Mutations: KF848938.1 235 T C | Freq in percent: 0.28%\n",
      "Mutations: KF848938.1 254 A G | Freq in percent: 0.24%\n",
      "Mutations: KF848938.1 276 A G | Freq in percent: 0.28%\n",
      "Mutations: KF848938.1 297 T C | Freq in percent: 0.25%\n",
      "Mutations: KF848938.1 370 A G | Freq in percent: 0.23%\n",
      "Mutations: KF848938.1 409 T C | Freq in percent: 0.27%\n",
      "Mutations: KF848938.1 463 A G | Freq in percent: 0.24%\n",
      "Mutations: KF848938.1 566 A G | Freq in percent: 0.27%\n",
      "Mutations: KF848938.1 595 G T | Freq in percent: 0.33%\n",
      "Mutations: KF848938.1 722 A G | Freq in percent: 0.28%\n",
      "Mutations: KF848938.1 744 A G | Freq in percent: 0.27%\n",
      "Mutations: KF848938.1 774 T C | Freq in percent: 0.31%\n",
      "Mutations: KF848938.1 859 A G | Freq in percent: 0.27%\n",
      "Mutations: KF848938.1 915 T C | Freq in percent: 0.43%\n",
      "Mutations: KF848938.1 1008 T G | Freq in percent: 0.24%\n",
      "Mutations: KF848938.1 1086 A G | Freq in percent: 0.35%\n",
      "Mutations: KF848938.1 1089 A G | Freq in percent: 0.27%\n",
      "Mutations: KF848938.1 1100 T C | Freq in percent: 0.25%\n",
      "Mutations: KF848938.1 1209 A G | Freq in percent: 0.28%\n",
      "Mutations: KF848938.1 1260 A C | Freq in percent: 0.31%\n",
      "Mutations: KF848938.1 1280 T C | Freq in percent: 0.25%\n",
      "Mutations: KF848938.1 1339 T C | Freq in percent: 0.46%\n",
      "Mutations: KF848938.1 1358 A G | Freq in percent: 0.37%\n",
      "Mutations: KF848938.1 1460 A G | Freq in percent: 0.33%\n",
      "Mutations: KF848938.1 1512 A G | Freq in percent: 0.24%\n",
      "Mutations: KF848938.1 1523 A G | Freq in percent: 0.25%\n",
      "Mutations: KF848938.1 1591 T C | Freq in percent: 0.3%:\n"
     ]
    }
   ],
   "source": [
    "# For strain 1\n",
    "\n",
    "!samtools mpileup -d 10000 -f reference.fasta alignment_sorted_strain1.bam > strain1_genome.mpileup\n",
    "!java -jar /home/belsawan/Programs/VarScan.v2.4.0.jar mpileup2snp strain1_genome.mpileup \\\n",
    "--min-var-freq 0.001 --variants --output-vcf 1 > varscan_strain1_01_results.vcf\n",
    "!cat varscan_strain1_01_results.vcf | gawk 'NR>24 {print \"Mutations:\",  $1, $2, $4, $5, \"| Freq in percent:\", substr($10, 26, 5)}'"
   ]
  },
  {
   "cell_type": "code",
   "execution_count": 112,
   "metadata": {},
   "outputs": [
    {
     "name": "stdout",
     "output_type": "stream",
     "text": [
      "[mpileup] 1 samples in 1 input files\n",
      "<mpileup> Set max per-file depth to 8000\n",
      "Only SNPs will be reported\n",
      "Warning: No p-value threshold provided, so p-values will not be calculated\n",
      "Min coverage:\t8\n",
      "Min reads2:\t2\n",
      "Min var freq:\t0.001\n",
      "Min avg qual:\t15\n",
      "P-value thresh:\t0.01\n",
      "Reading input from strain2_genome.mpileup\n",
      "1665 bases in pileup file\n",
      "24 variant positions (24 SNP, 0 indel)\n",
      "1 were failed by the strand-filter\n",
      "23 variant positions reported (23 SNP, 0 indel)\n",
      "Mutations: KF848938.1 125 T C | Freq in percent: 0.54%\n",
      "Mutations: KF848938.1 158 A G | Freq in percent: 0.29%\n",
      "Mutations: KF848938.1 222 T C | Freq in percent: 0.26%\n",
      "Mutations: KF848938.1 235 T C | Freq in percent: 0.26%\n",
      "Mutations: KF848938.1 291 T C | Freq in percent: 0.3%:\n",
      "Mutations: KF848938.1 319 T C | Freq in percent: 0.26%\n",
      "Mutations: KF848938.1 370 A G | Freq in percent: 0.27%\n",
      "Mutations: KF848938.1 499 A G | Freq in percent: 0.27%\n",
      "Mutations: KF848938.1 566 A G | Freq in percent: 0.28%\n",
      "Mutations: KF848938.1 609 A G | Freq in percent: 0.27%\n",
      "Mutations: KF848938.1 722 A G | Freq in percent: 0.28%\n",
      "Mutations: KF848938.1 859 A G | Freq in percent: 0.37%\n",
      "Mutations: KF848938.1 913 T C | Freq in percent: 0.27%\n",
      "Mutations: KF848938.1 1031 A G | Freq in percent: 0.36%\n",
      "Mutations: KF848938.1 1209 A G | Freq in percent: 0.33%\n",
      "Mutations: KF848938.1 1213 A G | Freq in percent: 0.37%\n",
      "Mutations: KF848938.1 1358 A G | Freq in percent: 0.31%\n",
      "Mutations: KF848938.1 1366 A G | Freq in percent: 0.3%:\n",
      "Mutations: KF848938.1 1460 A G | Freq in percent: 0.41%\n",
      "Mutations: KF848938.1 1482 A G | Freq in percent: 0.26%\n",
      "Mutations: KF848938.1 1517 A G | Freq in percent: 0.3%:\n",
      "Mutations: KF848938.1 1520 T C | Freq in percent: 0.27%\n",
      "Mutations: KF848938.1 1600 T C | Freq in percent: 0.37%\n"
     ]
    }
   ],
   "source": [
    "# For strain 2\n",
    "\n",
    "!samtools mpileup -d 10000 -f reference.fasta alignment_sorted_strain2.bam > strain2_genome.mpileup\n",
    "!java -jar /home/belsawan/Programs/VarScan.v2.4.0.jar mpileup2snp strain2_genome.mpileup \\\n",
    "--min-var-freq 0.001 --variants --output-vcf 1 > varscan_strain2_01_results.vcf\n",
    "!cat varscan_strain2_01_results.vcf | gawk 'NR>24 {print \"Mutations:\",  $1, $2, $4, $5, \"| Freq in percent:\", substr($10, 26, 5)}'"
   ]
  },
  {
   "cell_type": "code",
   "execution_count": 113,
   "metadata": {},
   "outputs": [
    {
     "name": "stdout",
     "output_type": "stream",
     "text": [
      "[mpileup] 1 samples in 1 input files\n",
      "<mpileup> Set max per-file depth to 8000\n",
      "Only SNPs will be reported\n",
      "Warning: No p-value threshold provided, so p-values will not be calculated\n",
      "Min coverage:\t8\n",
      "Min reads2:\t2\n",
      "Min var freq:\t0.001\n",
      "Min avg qual:\t15\n",
      "P-value thresh:\t0.01\n",
      "Reading input from strain3_genome.mpileup\n",
      "1665 bases in pileup file\n",
      "27 variant positions (27 SNP, 0 indel)\n",
      "1 were failed by the strand-filter\n",
      "26 variant positions reported (26 SNP, 0 indel)\n",
      "Mutations: KF848938.1 105 A G | Freq in percent: 0.94%\n",
      "Mutations: KF848938.1 139 T C | Freq in percent: 0.36%\n",
      "Mutations: KF848938.1 158 A G | Freq in percent: 0.36%\n",
      "Mutations: KF848938.1 165 T C | Freq in percent: 0.34%\n",
      "Mutations: KF848938.1 235 T C | Freq in percent: 0.37%\n",
      "Mutations: KF848938.1 276 A G | Freq in percent: 0.38%\n",
      "Mutations: KF848938.1 370 A G | Freq in percent: 0.27%\n",
      "Mutations: KF848938.1 414 T C | Freq in percent: 0.32%\n",
      "Mutations: KF848938.1 421 A G | Freq in percent: 0.26%\n",
      "Mutations: KF848938.1 566 A G | Freq in percent: 0.4%:\n",
      "Mutations: KF848938.1 660 A G | Freq in percent: 0.32%\n",
      "Mutations: KF848938.1 722 A G | Freq in percent: 0.31%\n",
      "Mutations: KF848938.1 759 T C | Freq in percent: 0.26%\n",
      "Mutations: KF848938.1 859 A G | Freq in percent: 0.26%\n",
      "Mutations: KF848938.1 898 A G | Freq in percent: 0.26%\n",
      "Mutations: KF848938.1 915 T C | Freq in percent: 0.33%\n",
      "Mutations: KF848938.1 1031 A G | Freq in percent: 0.31%\n",
      "Mutations: KF848938.1 1086 A G | Freq in percent: 0.28%\n",
      "Mutations: KF848938.1 1209 A G | Freq in percent: 0.43%\n",
      "Mutations: KF848938.1 1213 A G | Freq in percent: 0.33%\n",
      "Mutations: KF848938.1 1358 A G | Freq in percent: 0.37%\n",
      "Mutations: KF848938.1 1366 A G | Freq in percent: 0.33%\n",
      "Mutations: KF848938.1 1421 A G | Freq in percent: 0.35%\n",
      "Mutations: KF848938.1 1460 A G | Freq in percent: 0.34%\n",
      "Mutations: KF848938.1 1482 A G | Freq in percent: 0.26%\n",
      "Mutations: KF848938.1 1580 T C | Freq in percent: 0.33%\n"
     ]
    }
   ],
   "source": [
    "# For strain 3\n",
    "\n",
    "!samtools mpileup -f -d 10000 reference.fasta alignment_sorted_strain3.bam > strain3_genome.mpileup\n",
    "!java -jar /home/belsawan/Programs/VarScan.v2.4.0.jar mpileup2snp strain3_genome.mpileup \\\n",
    "--min-var-freq 0.001 --variants --output-vcf 1 > varscan_strain3_01_results.vcf\n",
    "!cat varscan_strain3_01_results.vcf | gawk 'NR>24 {print \"Mutations:\",  $1, $2, $4, $5, \"| Freq in percent:\", substr($10, 26, 5)}'"
   ]
  },
  {
   "cell_type": "code",
   "execution_count": 33,
   "metadata": {},
   "outputs": [
    {
     "name": "stdout",
     "output_type": "stream",
     "text": [
      "1456\n",
      "ATG\n",
      "1459\n",
      "ACC\n"
     ]
    }
   ],
   "source": [
    "#Analyze\n",
    "\n",
    "a = 'CAAAAACTTCCTGGAAATGACAACAGCACGGCAACGCTGTGCCTTGGGCACCATGCAGTGCCAAACGGAACAATAGTGAAAACAATCACGAATGACCAAATTGAAGTTACTAATGCCACTGAGCTGGTTCAGAGTTCCTCAACAGGTGAAATATGCAACAGTCCTCATCAGATCCTTGATGGAGAAAACTGCACACTAATAGATGCTCTATTGGGAGACCCTCAGTGTGATGGCTTCCAAAACAAGAAATGGGACCTTTTTGTTGAACGAAGCAAAGCCCACAGCAACTGTTACCCTTATGATGTGCCGGATTATGCCTCCCTTAGGTCACTAGTTGCCTCATCCGGCACACTGGAGTTTAACAATGAAAGCTTCAATTGGACTGGAGTCACTCAAAACGGAACAAGCTCTGCTTGCATAAGGAGATCTAATAATAGTTTCTTTAGTAGATTGAATTGGTTGACCCACTTAAACTTCAAATACCCAGCATTGAACGTGACTATGCCAAACAATGAACAATTTGACAAATTGTACATTTGGGGGGTTCACCACCCGGGTACGGACAAGGACCAAATCTTCCTGTATGCTCAAGCAGCAGGAAGAATCACAGTATCTACCAAAAGAAGCCAACAAGCTGTAATTCCGAATATCGGATCTAGACCCAGAGTAAGGAATATCCCTAGCAGAGTAAGCATCTATTGGACAATAGTAAAACCGGGAGACATACTTTTGATTAACAGCACAGGGAATCTAATTGCTCCTAGGGGTTACTTTAAAATACGAAGTGGGAAAAGCTCAATAATGAGATCAGATGCACCCATTGGCAAATGCAATTCTGCATGCATCACTCCAAATGGAAGCATTCCCAATGACAAACCATTCCAAAATGTAAACAGGATCACATACGGGGCCTGTCCCAGATATGTTAAGCAAAACACTCTGAAATTGGCAACAGGAATGAGAAATGTACCAGAGAAACAAACTAGAGGCATATTTGGCGCAATAGCTGGTTTCATAGAAAATGGTTGGGAGGGAATGGTGGATGGTTGGTACGGTTTCAGGCATCAAAATTCTGAGGGAAGGGGACAAGCAGCAGATCTCAAAAGCACTCAAGCAGCAATCGATCAAATCAATGGGAAGCTGAATAGATTGATCGGGAAAACCAACGAGAAATTCCATCAGATTGAAAAAGAATTCTCAGAAGTCGAAGGGAGAATTCAGGACCTTGAGAAATATGTTGAGGACACTAAAATAGATCTATGGTCATACAACGCGGAGCTTCTTGTTGCCCTGGAGAACCAACACACAATTGATCTAACTGACTCAGAAATGAACAAATTGTTTGAAAAAACAAAGAAGCAACTGAGGGAAAATGCTGAGGATATGGGCAATGGTTGTTTCAAAATATACCACAAATGTGACAATGCCTGCATAGGATCAATCAGAAATGGAACTTATGACCACGATGTGTACAGAGATGAAGCATTAAACAACCGATTCCAGATCAAGGGAGTTGAGCTGAAGTCAGGGTACAAAGATTGGATCCTATGGATTTCCTTTGCCATATCATGTTTTTTGCTTTGTGTTGCTTTGTTGGGGTTCATCATGTGGGCCTGCCAAAAAGGCAACATTAGGTGCAACATTTGCATTTGAGTGCATTAATTA'\n",
    "s = a.find('ATG')\n",
    "codons = []\n",
    "for i in range(s, 1663, 3):\n",
    "    codons.append(a[i:i+3])\n",
    "    if i>1455 and i<1462:\n",
    "        print(i)\n",
    "        print(a[i:i+3])\n"
   ]
  },
  {
   "cell_type": "code",
   "execution_count": 27,
   "metadata": {},
   "outputs": [
    {
     "data": {
      "text/plain": [
       "'CAA'"
      ]
     },
     "execution_count": 27,
     "metadata": {},
     "output_type": "execute_result"
    }
   ],
   "source": [
    "codons[18]"
   ]
  },
  {
   "cell_type": "code",
   "execution_count": 35,
   "metadata": {},
   "outputs": [
    {
     "data": {
      "text/plain": [
       "'T'"
      ]
     },
     "execution_count": 35,
     "metadata": {},
     "output_type": "execute_result"
    }
   ],
   "source": [
    "a[1457]"
   ]
  },
  {
   "cell_type": "code",
   "execution_count": null,
   "metadata": {},
   "outputs": [],
   "source": [
    "ATG ACG"
   ]
  }
 ],
 "metadata": {
  "kernelspec": {
   "display_name": "Python 3",
   "language": "python",
   "name": "python3"
  },
  "language_info": {
   "codemirror_mode": {
    "name": "ipython",
    "version": 3
   },
   "file_extension": ".py",
   "mimetype": "text/x-python",
   "name": "python",
   "nbconvert_exporter": "python",
   "pygments_lexer": "ipython3",
   "version": "3.7.4"
  }
 },
 "nbformat": 4,
 "nbformat_minor": 2
}
